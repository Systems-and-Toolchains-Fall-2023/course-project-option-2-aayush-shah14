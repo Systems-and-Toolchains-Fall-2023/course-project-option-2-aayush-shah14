{
 "cells": [
  {
   "cell_type": "markdown",
   "id": "30430a79",
   "metadata": {},
   "source": [
    "## Pre-Processing\n",
    "\n",
    "Starting a Spark session"
   ]
  },
  {
   "cell_type": "code",
   "execution_count": 1,
   "id": "fcee03fe",
   "metadata": {},
   "outputs": [
    {
     "name": "stdout",
     "output_type": "stream",
     "text": [
      "Requirement already satisfied: torch in /opt/conda/miniconda3/lib/python3.10/site-packages (2.1.0)\n",
      "Requirement already satisfied: filelock in /opt/conda/miniconda3/lib/python3.10/site-packages (from torch) (3.13.1)\n",
      "Requirement already satisfied: typing-extensions in /opt/conda/miniconda3/lib/python3.10/site-packages (from torch) (4.8.0)\n",
      "Requirement already satisfied: sympy in /opt/conda/miniconda3/lib/python3.10/site-packages (from torch) (1.10.1)\n",
      "Requirement already satisfied: networkx in /opt/conda/miniconda3/lib/python3.10/site-packages (from torch) (3.2.1)\n",
      "Requirement already satisfied: jinja2 in /opt/conda/miniconda3/lib/python3.10/site-packages (from torch) (3.1.2)\n",
      "Requirement already satisfied: fsspec in /opt/conda/miniconda3/lib/python3.10/site-packages (from torch) (2022.8.2)\n",
      "Requirement already satisfied: nvidia-cuda-nvrtc-cu12==12.1.105 in /opt/conda/miniconda3/lib/python3.10/site-packages (from torch) (12.1.105)\n",
      "Requirement already satisfied: nvidia-cuda-runtime-cu12==12.1.105 in /opt/conda/miniconda3/lib/python3.10/site-packages (from torch) (12.1.105)\n",
      "Requirement already satisfied: nvidia-cuda-cupti-cu12==12.1.105 in /opt/conda/miniconda3/lib/python3.10/site-packages (from torch) (12.1.105)\n",
      "Requirement already satisfied: nvidia-cudnn-cu12==8.9.2.26 in /opt/conda/miniconda3/lib/python3.10/site-packages (from torch) (8.9.2.26)\n",
      "Requirement already satisfied: nvidia-cublas-cu12==12.1.3.1 in /opt/conda/miniconda3/lib/python3.10/site-packages (from torch) (12.1.3.1)\n",
      "Requirement already satisfied: nvidia-cufft-cu12==11.0.2.54 in /opt/conda/miniconda3/lib/python3.10/site-packages (from torch) (11.0.2.54)\n",
      "Requirement already satisfied: nvidia-curand-cu12==10.3.2.106 in /opt/conda/miniconda3/lib/python3.10/site-packages (from torch) (10.3.2.106)\n",
      "Requirement already satisfied: nvidia-cusolver-cu12==11.4.5.107 in /opt/conda/miniconda3/lib/python3.10/site-packages (from torch) (11.4.5.107)\n",
      "Requirement already satisfied: nvidia-cusparse-cu12==12.1.0.106 in /opt/conda/miniconda3/lib/python3.10/site-packages (from torch) (12.1.0.106)\n",
      "Requirement already satisfied: nvidia-nccl-cu12==2.18.1 in /opt/conda/miniconda3/lib/python3.10/site-packages (from torch) (2.18.1)\n",
      "Requirement already satisfied: nvidia-nvtx-cu12==12.1.105 in /opt/conda/miniconda3/lib/python3.10/site-packages (from torch) (12.1.105)\n",
      "Requirement already satisfied: triton==2.1.0 in /opt/conda/miniconda3/lib/python3.10/site-packages (from torch) (2.1.0)\n",
      "Requirement already satisfied: nvidia-nvjitlink-cu12 in /opt/conda/miniconda3/lib/python3.10/site-packages (from nvidia-cusolver-cu12==11.4.5.107->torch) (12.3.52)\n",
      "Requirement already satisfied: MarkupSafe>=2.0 in /opt/conda/miniconda3/lib/python3.10/site-packages (from jinja2->torch) (2.1.1)\n",
      "Requirement already satisfied: mpmath>=0.19 in /opt/conda/miniconda3/lib/python3.10/site-packages (from sympy->torch) (1.3.0)\n",
      "\u001b[33mWARNING: Running pip as the 'root' user can result in broken permissions and conflicting behaviour with the system package manager. It is recommended to use a virtual environment instead: https://pip.pypa.io/warnings/venv\u001b[0m\u001b[33m\n",
      "\u001b[0mNote: you may need to restart the kernel to use updated packages.\n"
     ]
    },
    {
     "name": "stderr",
     "output_type": "stream",
     "text": [
      "Setting default log level to \"WARN\".\n",
      "To adjust logging level use sc.setLogLevel(newLevel). For SparkR, use setLogLevel(newLevel).\n",
      "23/11/17 03:10:10 INFO SparkEnv: Registering MapOutputTracker\n",
      "23/11/17 03:10:10 INFO SparkEnv: Registering BlockManagerMaster\n",
      "23/11/17 03:10:11 INFO SparkEnv: Registering BlockManagerMasterHeartbeat\n",
      "23/11/17 03:10:11 INFO SparkEnv: Registering OutputCommitCoordinator\n",
      "/usr/lib/spark/python/pyspark/sql/context.py:112: FutureWarning: Deprecated in 3.0.0. Use SparkSession.builder.getOrCreate() instead.\n",
      "  warnings.warn(\n"
     ]
    }
   ],
   "source": [
    "import pyspark\n",
    "from pyspark.sql.functions import *\n",
    "from pyspark.sql.types import *\n",
    "from pyspark.ml import Pipeline,Transformer\n",
    "from pyspark.ml.feature import Imputer,StandardScaler,StringIndexer,OneHotEncoder, VectorAssembler\n",
    "%pip install torch\n",
    "from pyspark.sql import SparkSession\n",
    "from pyspark import SparkContext, SQLContext\n",
    "import matplotlib.pyplot as plt\n",
    "import torch\n",
    "from torch import nn, optim\n",
    "from torch.utils.data import Dataset, DataLoader\n",
    "from time import time\n",
    "import numpy as np\n",
    "\n",
    "\n",
    "appName = \"CloudMQTT\"\n",
    "master = \"local[*]\"\n",
    "\n",
    "conf = pyspark.SparkConf()\\\n",
    "    .set('spark.jars','gs://mqtt-bucket-14/postgresql-42.6.0.jar')\\\n",
    "    .setAppName(appName)\\\n",
    "    .setMaster(master)\n",
    "\n",
    "# Create Spark Context with the new configurations rather than relying on the default one\n",
    "sc = SparkContext.getOrCreate(conf=conf)\n",
    "# You need to create SQL Context to conduct some database operations like what we will see later.\n",
    "sqlContext = SQLContext(sc)\n",
    "\n",
    "# If you have SQL context, you create the session from the Spark Context\n",
    "spark = sqlContext.sparkSession.builder.getOrCreate()"
   ]
  },
  {
   "cell_type": "code",
   "execution_count": 2,
   "id": "40c1048e",
   "metadata": {},
   "outputs": [],
   "source": [
    "mqtt = StructType([StructField('tcp_flags', StringType(), True), \n",
    "                   StructField('tcp_time_delta', DoubleType(), True), \n",
    "                   StructField('tcp_len', IntegerType(), True), \n",
    "                   StructField('mqtt_conack_flags', StringType(), True), \n",
    "                   StructField('mqtt_conack_flags_reserved', DoubleType(), True), \n",
    "                   StructField('mqtt_conack_flags_sp', DoubleType(), True), \n",
    "                   StructField('mqtt_conack_val', DoubleType(), True), \n",
    "                   StructField('mqtt_conflag_cleansess', DoubleType(), True), \n",
    "                   StructField('mqtt_conflag_passwd', DoubleType(), True), \n",
    "                   StructField('mqtt_conflag_qos', DoubleType(), True), \n",
    "                   StructField('mqtt_conflag_reserved', DoubleType(), True), \n",
    "                   StructField('mqtt_conflag_retain', DoubleType(), True), \n",
    "                   StructField('mqtt_conflag_uname', DoubleType(), True), \n",
    "                   StructField('mqtt_conflag_willflag', DoubleType(), True), \n",
    "                   StructField('mqtt_conflags', StringType(), True), \n",
    "                   StructField('mqtt_dupflag', DoubleType(), True), \n",
    "                   StructField('mqtt_hdrflags', StringType(), True), \n",
    "                   StructField('mqtt_kalive', DoubleType(), True), \n",
    "                   StructField('mqtt_len', DoubleType(), True), \n",
    "                   StructField('mqtt_msg', StringType(), True), \n",
    "                   StructField('mqtt_msgid', DoubleType(), True), \n",
    "                   StructField('mqtt_msgtype', DoubleType(), True), \n",
    "                   StructField('mqtt_proto_len', DoubleType(), True), \n",
    "                   StructField('mqtt_protoname', StringType(), True), \n",
    "                   StructField('mqtt_qos', DoubleType(), True), \n",
    "                   StructField('mqtt_retain', DoubleType(), True), \n",
    "                   StructField('mqtt_sub_qos', DoubleType(), True), \n",
    "                   StructField('mqtt_suback_qos', DoubleType(), True), \n",
    "                   StructField('mqtt_ver', DoubleType(), True), \n",
    "                   StructField('mqtt_willmsg', DoubleType(), True), \n",
    "                   StructField('mqtt_willmsg_len', DoubleType(), True), \n",
    "                   StructField('mqtt_willtopic', DoubleType(), True), \n",
    "                   StructField('mqtt_willtopic_len', DoubleType(), True), \n",
    "                   StructField('target', StringType(), True), \n",
    "                   StructField('train_flag', IntegerType(), False)])"
   ]
  },
  {
   "cell_type": "code",
   "execution_count": 3,
   "id": "577930a2",
   "metadata": {},
   "outputs": [],
   "source": [
    "df_train = spark.read.csv(r\"gs://mqtt-bucket-14/train70_reduced.csv\", header = True, inferSchema= False, schema = mqtt)\n",
    "df_test = spark.read.csv(r\"gs://mqtt-bucket-14/test30_reduced.csv\", header = True, inferSchema= False, schema = mqtt)\n",
    "df_train = df_train.withColumn('train_flag', lit(1)) #train flag is 1 if the data is training set or 0 if test set\n",
    "df_test = df_test.withColumn('train_flag', lit(0))"
   ]
  },
  {
   "cell_type": "code",
   "execution_count": 4,
   "id": "5ee69145",
   "metadata": {},
   "outputs": [
    {
     "name": "stdout",
     "output_type": "stream",
     "text": [
      "root\n",
      " |-- tcp_flags: string (nullable = true)\n",
      " |-- tcp_time_delta: double (nullable = true)\n",
      " |-- tcp_len: integer (nullable = true)\n",
      " |-- mqtt_conack_flags: string (nullable = true)\n",
      " |-- mqtt_conack_flags_reserved: double (nullable = true)\n",
      " |-- mqtt_conack_flags_sp: double (nullable = true)\n",
      " |-- mqtt_conack_val: double (nullable = true)\n",
      " |-- mqtt_conflag_cleansess: double (nullable = true)\n",
      " |-- mqtt_conflag_passwd: double (nullable = true)\n",
      " |-- mqtt_conflag_qos: double (nullable = true)\n",
      " |-- mqtt_conflag_reserved: double (nullable = true)\n",
      " |-- mqtt_conflag_retain: double (nullable = true)\n",
      " |-- mqtt_conflag_uname: double (nullable = true)\n",
      " |-- mqtt_conflag_willflag: double (nullable = true)\n",
      " |-- mqtt_conflags: string (nullable = true)\n",
      " |-- mqtt_dupflag: double (nullable = true)\n",
      " |-- mqtt_hdrflags: string (nullable = true)\n",
      " |-- mqtt_kalive: double (nullable = true)\n",
      " |-- mqtt_len: double (nullable = true)\n",
      " |-- mqtt_msg: string (nullable = true)\n",
      " |-- mqtt_msgid: double (nullable = true)\n",
      " |-- mqtt_msgtype: double (nullable = true)\n",
      " |-- mqtt_proto_len: double (nullable = true)\n",
      " |-- mqtt_protoname: string (nullable = true)\n",
      " |-- mqtt_qos: double (nullable = true)\n",
      " |-- mqtt_retain: double (nullable = true)\n",
      " |-- mqtt_sub_qos: double (nullable = true)\n",
      " |-- mqtt_suback_qos: double (nullable = true)\n",
      " |-- mqtt_ver: double (nullable = true)\n",
      " |-- mqtt_willmsg: double (nullable = true)\n",
      " |-- mqtt_willmsg_len: double (nullable = true)\n",
      " |-- mqtt_willtopic: double (nullable = true)\n",
      " |-- mqtt_willtopic_len: double (nullable = true)\n",
      " |-- target: string (nullable = true)\n",
      " |-- train_flag: integer (nullable = false)\n",
      "\n"
     ]
    },
    {
     "name": "stderr",
     "output_type": "stream",
     "text": [
      "23/11/17 03:10:26 WARN package: Truncated the string representation of a plan since it was too large. This behavior can be adjusted by setting 'spark.sql.debug.maxToStringFields'.\n",
      "23/11/17 03:10:28 WARN CSVHeaderChecker: CSV header does not conform to the schema.\n",
      " Header: tcp.flags, tcp.time_delta, tcp.len, mqtt.conack.flags, mqtt.conack.flags.reserved, mqtt.conack.flags.sp, mqtt.conack.val, mqtt.conflag.cleansess, mqtt.conflag.passwd, mqtt.conflag.qos, mqtt.conflag.reserved, mqtt.conflag.retain, mqtt.conflag.uname, mqtt.conflag.willflag, mqtt.conflags, mqtt.dupflag, mqtt.hdrflags, mqtt.kalive, mqtt.len, mqtt.msg, mqtt.msgid, mqtt.msgtype, mqtt.proto_len, mqtt.protoname, mqtt.qos, mqtt.retain, mqtt.sub.qos, mqtt.suback.qos, mqtt.ver, mqtt.willmsg, mqtt.willmsg_len, mqtt.willtopic, mqtt.willtopic_len, target\n",
      " Schema: tcp_flags, tcp_time_delta, tcp_len, mqtt_conack_flags, mqtt_conack_flags_reserved, mqtt_conack_flags_sp, mqtt_conack_val, mqtt_conflag_cleansess, mqtt_conflag_passwd, mqtt_conflag_qos, mqtt_conflag_reserved, mqtt_conflag_retain, mqtt_conflag_uname, mqtt_conflag_willflag, mqtt_conflags, mqtt_dupflag, mqtt_hdrflags, mqtt_kalive, mqtt_len, mqtt_msg, mqtt_msgid, mqtt_msgtype, mqtt_proto_len, mqtt_protoname, mqtt_qos, mqtt_retain, mqtt_sub_qos, mqtt_suback_qos, mqtt_ver, mqtt_willmsg, mqtt_willmsg_len, mqtt_willtopic, mqtt_willtopic_len, target\n",
      "Expected: tcp_flags but found: tcp.flags\n",
      "CSV file: gs://mqtt-bucket-14/train70_reduced.csv\n"
     ]
    },
    {
     "name": "stdout",
     "output_type": "stream",
     "text": [
      "-RECORD 0------------------------------------------\n",
      " tcp_flags                  | 0x00000018           \n",
      " tcp_time_delta             | 0.998867             \n",
      " tcp_len                    | 10                   \n",
      " mqtt_conack_flags          | 0                    \n",
      " mqtt_conack_flags_reserved | 0.0                  \n",
      " mqtt_conack_flags_sp       | 0.0                  \n",
      " mqtt_conack_val            | 0.0                  \n",
      " mqtt_conflag_cleansess     | 0.0                  \n",
      " mqtt_conflag_passwd        | 0.0                  \n",
      " mqtt_conflag_qos           | 0.0                  \n",
      " mqtt_conflag_reserved      | 0.0                  \n",
      " mqtt_conflag_retain        | 0.0                  \n",
      " mqtt_conflag_uname         | 0.0                  \n",
      " mqtt_conflag_willflag      | 0.0                  \n",
      " mqtt_conflags              | 0                    \n",
      " mqtt_dupflag               | 0.0                  \n",
      " mqtt_hdrflags              | 0x00000030           \n",
      " mqtt_kalive                | 0.0                  \n",
      " mqtt_len                   | 8.0                  \n",
      " mqtt_msg                   | 32                   \n",
      " mqtt_msgid                 | 0.0                  \n",
      " mqtt_msgtype               | 3.0                  \n",
      " mqtt_proto_len             | 0.0                  \n",
      " mqtt_protoname             | 0                    \n",
      " mqtt_qos                   | 0.0                  \n",
      " mqtt_retain                | 0.0                  \n",
      " mqtt_sub_qos               | 0.0                  \n",
      " mqtt_suback_qos            | 0.0                  \n",
      " mqtt_ver                   | 0.0                  \n",
      " mqtt_willmsg               | 0.0                  \n",
      " mqtt_willmsg_len           | 0.0                  \n",
      " mqtt_willtopic             | 0.0                  \n",
      " mqtt_willtopic_len         | 0.0                  \n",
      " target                     | legitimate           \n",
      " train_flag                 | 1                    \n",
      "-RECORD 1------------------------------------------\n",
      " tcp_flags                  | 0x00000010           \n",
      " tcp_time_delta             | 6.7E-5               \n",
      " tcp_len                    | 1460                 \n",
      " mqtt_conack_flags          | 0                    \n",
      " mqtt_conack_flags_reserved | 0.0                  \n",
      " mqtt_conack_flags_sp       | 0.0                  \n",
      " mqtt_conack_val            | 0.0                  \n",
      " mqtt_conflag_cleansess     | 0.0                  \n",
      " mqtt_conflag_passwd        | 0.0                  \n",
      " mqtt_conflag_qos           | 0.0                  \n",
      " mqtt_conflag_reserved      | 0.0                  \n",
      " mqtt_conflag_retain        | 0.0                  \n",
      " mqtt_conflag_uname         | 0.0                  \n",
      " mqtt_conflag_willflag      | 0.0                  \n",
      " mqtt_conflags              | 0                    \n",
      " mqtt_dupflag               | 0.0                  \n",
      " mqtt_hdrflags              | 0x00000032           \n",
      " mqtt_kalive                | 0.0                  \n",
      " mqtt_len                   | 169.0                \n",
      " mqtt_msg                   | 63616539436661446... \n",
      " mqtt_msgid                 | 2714.0               \n",
      " mqtt_msgtype               | 3.0                  \n",
      " mqtt_proto_len             | 0.0                  \n",
      " mqtt_protoname             | 0                    \n",
      " mqtt_qos                   | 1.0                  \n",
      " mqtt_retain                | 0.0                  \n",
      " mqtt_sub_qos               | 0.0                  \n",
      " mqtt_suback_qos            | 0.0                  \n",
      " mqtt_ver                   | 0.0                  \n",
      " mqtt_willmsg               | 0.0                  \n",
      " mqtt_willmsg_len           | 0.0                  \n",
      " mqtt_willtopic             | 0.0                  \n",
      " mqtt_willtopic_len         | 0.0                  \n",
      " target                     | dos                  \n",
      " train_flag                 | 1                    \n",
      "-RECORD 2------------------------------------------\n",
      " tcp_flags                  | 0x00000010           \n",
      " tcp_time_delta             | 5.8E-5               \n",
      " tcp_len                    | 1460                 \n",
      " mqtt_conack_flags          | 0                    \n",
      " mqtt_conack_flags_reserved | 0.0                  \n",
      " mqtt_conack_flags_sp       | 0.0                  \n",
      " mqtt_conack_val            | 0.0                  \n",
      " mqtt_conflag_cleansess     | 0.0                  \n",
      " mqtt_conflag_passwd        | 0.0                  \n",
      " mqtt_conflag_qos           | 0.0                  \n",
      " mqtt_conflag_reserved      | 0.0                  \n",
      " mqtt_conflag_retain        | 0.0                  \n",
      " mqtt_conflag_uname         | 0.0                  \n",
      " mqtt_conflag_willflag      | 0.0                  \n",
      " mqtt_conflags              | 0                    \n",
      " mqtt_dupflag               | 0.0                  \n",
      " mqtt_hdrflags              | 0x00000032           \n",
      " mqtt_kalive                | 0.0                  \n",
      " mqtt_len                   | 163.0                \n",
      " mqtt_msg                   | 42326461413943334... \n",
      " mqtt_msgid                 | 1548.0               \n",
      " mqtt_msgtype               | 3.0                  \n",
      " mqtt_proto_len             | 0.0                  \n",
      " mqtt_protoname             | 0                    \n",
      " mqtt_qos                   | 1.0                  \n",
      " mqtt_retain                | 0.0                  \n",
      " mqtt_sub_qos               | 0.0                  \n",
      " mqtt_suback_qos            | 0.0                  \n",
      " mqtt_ver                   | 0.0                  \n",
      " mqtt_willmsg               | 0.0                  \n",
      " mqtt_willmsg_len           | 0.0                  \n",
      " mqtt_willtopic             | 0.0                  \n",
      " mqtt_willtopic_len         | 0.0                  \n",
      " target                     | dos                  \n",
      " train_flag                 | 1                    \n",
      "-RECORD 3------------------------------------------\n",
      " tcp_flags                  | 0x00000018           \n",
      " tcp_time_delta             | 2.27E-4              \n",
      " tcp_len                    | 10                   \n",
      " mqtt_conack_flags          | 0                    \n",
      " mqtt_conack_flags_reserved | 0.0                  \n",
      " mqtt_conack_flags_sp       | 0.0                  \n",
      " mqtt_conack_val            | 0.0                  \n",
      " mqtt_conflag_cleansess     | 0.0                  \n",
      " mqtt_conflag_passwd        | 0.0                  \n",
      " mqtt_conflag_qos           | 0.0                  \n",
      " mqtt_conflag_reserved      | 0.0                  \n",
      " mqtt_conflag_retain        | 0.0                  \n",
      " mqtt_conflag_uname         | 0.0                  \n",
      " mqtt_conflag_willflag      | 0.0                  \n",
      " mqtt_conflags              | 0                    \n",
      " mqtt_dupflag               | 0.0                  \n",
      " mqtt_hdrflags              | 0x00000030           \n",
      " mqtt_kalive                | 0.0                  \n",
      " mqtt_len                   | 8.0                  \n",
      " mqtt_msg                   | 32                   \n",
      " mqtt_msgid                 | 0.0                  \n",
      " mqtt_msgtype               | 3.0                  \n",
      " mqtt_proto_len             | 0.0                  \n",
      " mqtt_protoname             | 0                    \n",
      " mqtt_qos                   | 0.0                  \n",
      " mqtt_retain                | 0.0                  \n",
      " mqtt_sub_qos               | 0.0                  \n",
      " mqtt_suback_qos            | 0.0                  \n",
      " mqtt_ver                   | 0.0                  \n",
      " mqtt_willmsg               | 0.0                  \n",
      " mqtt_willmsg_len           | 0.0                  \n",
      " mqtt_willtopic             | 0.0                  \n",
      " mqtt_willtopic_len         | 0.0                  \n",
      " target                     | legitimate           \n",
      " train_flag                 | 1                    \n",
      "-RECORD 4------------------------------------------\n",
      " tcp_flags                  | 0x00000018           \n",
      " tcp_time_delta             | 2.36E-4              \n",
      " tcp_len                    | 16                   \n",
      " mqtt_conack_flags          | 0                    \n",
      " mqtt_conack_flags_reserved | 0.0                  \n",
      " mqtt_conack_flags_sp       | 0.0                  \n",
      " mqtt_conack_val            | 0.0                  \n",
      " mqtt_conflag_cleansess     | 0.0                  \n",
      " mqtt_conflag_passwd        | 0.0                  \n",
      " mqtt_conflag_qos           | 0.0                  \n",
      " mqtt_conflag_reserved      | 0.0                  \n",
      " mqtt_conflag_retain        | 0.0                  \n",
      " mqtt_conflag_uname         | 0.0                  \n",
      " mqtt_conflag_willflag      | 0.0                  \n",
      " mqtt_conflags              | 0                    \n",
      " mqtt_dupflag               | 0.0                  \n",
      " mqtt_hdrflags              | 0x00000040           \n",
      " mqtt_kalive                | 0.0                  \n",
      " mqtt_len                   | 2.0                  \n",
      " mqtt_msg                   | 0                    \n",
      " mqtt_msgid                 | 2800.0               \n",
      " mqtt_msgtype               | 4.0                  \n",
      " mqtt_proto_len             | 0.0                  \n",
      " mqtt_protoname             | 0                    \n",
      " mqtt_qos                   | 0.0                  \n",
      " mqtt_retain                | 0.0                  \n",
      " mqtt_sub_qos               | 0.0                  \n",
      " mqtt_suback_qos            | 0.0                  \n",
      " mqtt_ver                   | 0.0                  \n",
      " mqtt_willmsg               | 0.0                  \n",
      " mqtt_willmsg_len           | 0.0                  \n",
      " mqtt_willtopic             | 0.0                  \n",
      " mqtt_willtopic_len         | 0.0                  \n",
      " target                     | dos                  \n",
      " train_flag                 | 1                    \n",
      "-RECORD 5------------------------------------------\n",
      " tcp_flags                  | 0x00000010           \n",
      " tcp_time_delta             | 9.0E-6               \n",
      " tcp_len                    | 0                    \n",
      " mqtt_conack_flags          | 0                    \n",
      " mqtt_conack_flags_reserved | 0.0                  \n",
      " mqtt_conack_flags_sp       | 0.0                  \n",
      " mqtt_conack_val            | 0.0                  \n",
      " mqtt_conflag_cleansess     | 0.0                  \n",
      " mqtt_conflag_passwd        | 0.0                  \n",
      " mqtt_conflag_qos           | 0.0                  \n",
      " mqtt_conflag_reserved      | 0.0                  \n",
      " mqtt_conflag_retain        | 0.0                  \n",
      " mqtt_conflag_uname         | 0.0                  \n",
      " mqtt_conflag_willflag      | 0.0                  \n",
      " mqtt_conflags              | 0                    \n",
      " mqtt_dupflag               | 0.0                  \n",
      " mqtt_hdrflags              | 0                    \n",
      " mqtt_kalive                | 0.0                  \n",
      " mqtt_len                   | 0.0                  \n",
      " mqtt_msg                   | 0                    \n",
      " mqtt_msgid                 | 0.0                  \n",
      " mqtt_msgtype               | 0.0                  \n",
      " mqtt_proto_len             | 0.0                  \n",
      " mqtt_protoname             | 0                    \n",
      " mqtt_qos                   | 0.0                  \n",
      " mqtt_retain                | 0.0                  \n",
      " mqtt_sub_qos               | 0.0                  \n",
      " mqtt_suback_qos            | 0.0                  \n",
      " mqtt_ver                   | 0.0                  \n",
      " mqtt_willmsg               | 0.0                  \n",
      " mqtt_willmsg_len           | 0.0                  \n",
      " mqtt_willtopic             | 0.0                  \n",
      " mqtt_willtopic_len         | 0.0                  \n",
      " target                     | legitimate           \n",
      " train_flag                 | 1                    \n",
      "-RECORD 6------------------------------------------\n",
      " tcp_flags                  | 0x00000010           \n",
      " tcp_time_delta             | 4.0E-6               \n",
      " tcp_len                    | 0                    \n",
      " mqtt_conack_flags          | 0                    \n",
      " mqtt_conack_flags_reserved | 0.0                  \n",
      " mqtt_conack_flags_sp       | 0.0                  \n",
      " mqtt_conack_val            | 0.0                  \n",
      " mqtt_conflag_cleansess     | 0.0                  \n",
      " mqtt_conflag_passwd        | 0.0                  \n",
      " mqtt_conflag_qos           | 0.0                  \n",
      " mqtt_conflag_reserved      | 0.0                  \n",
      " mqtt_conflag_retain        | 0.0                  \n",
      " mqtt_conflag_uname         | 0.0                  \n",
      " mqtt_conflag_willflag      | 0.0                  \n",
      " mqtt_conflags              | 0                    \n",
      " mqtt_dupflag               | 0.0                  \n",
      " mqtt_hdrflags              | 0                    \n",
      " mqtt_kalive                | 0.0                  \n",
      " mqtt_len                   | 0.0                  \n",
      " mqtt_msg                   | 0                    \n",
      " mqtt_msgid                 | 0.0                  \n",
      " mqtt_msgtype               | 0.0                  \n",
      " mqtt_proto_len             | 0.0                  \n",
      " mqtt_protoname             | 0                    \n",
      " mqtt_qos                   | 0.0                  \n",
      " mqtt_retain                | 0.0                  \n",
      " mqtt_sub_qos               | 0.0                  \n",
      " mqtt_suback_qos            | 0.0                  \n",
      " mqtt_ver                   | 0.0                  \n",
      " mqtt_willmsg               | 0.0                  \n",
      " mqtt_willmsg_len           | 0.0                  \n",
      " mqtt_willtopic             | 0.0                  \n",
      " mqtt_willtopic_len         | 0.0                  \n",
      " target                     | legitimate           \n",
      " train_flag                 | 1                    \n",
      "-RECORD 7------------------------------------------\n",
      " tcp_flags                  | 0x00000018           \n",
      " tcp_time_delta             | 1.56E-4              \n",
      " tcp_len                    | 13                   \n",
      " mqtt_conack_flags          | 0                    \n",
      " mqtt_conack_flags_reserved | 0.0                  \n",
      " mqtt_conack_flags_sp       | 0.0                  \n",
      " mqtt_conack_val            | 0.0                  \n",
      " mqtt_conflag_cleansess     | 0.0                  \n",
      " mqtt_conflag_passwd        | 0.0                  \n",
      " mqtt_conflag_qos           | 0.0                  \n",
      " mqtt_conflag_reserved      | 0.0                  \n",
      " mqtt_conflag_retain        | 0.0                  \n",
      " mqtt_conflag_uname         | 0.0                  \n",
      " mqtt_conflag_willflag      | 0.0                  \n",
      " mqtt_conflags              | 0                    \n",
      " mqtt_dupflag               | 0.0                  \n",
      " mqtt_hdrflags              | 0x00000030           \n",
      " mqtt_kalive                | 0.0                  \n",
      " mqtt_len                   | 11.0                 \n",
      " mqtt_msg                   | 32                   \n",
      " mqtt_msgid                 | 0.0                  \n",
      " mqtt_msgtype               | 3.0                  \n",
      " mqtt_proto_len             | 0.0                  \n",
      " mqtt_protoname             | 0                    \n",
      " mqtt_qos                   | 0.0                  \n",
      " mqtt_retain                | 0.0                  \n",
      " mqtt_sub_qos               | 0.0                  \n",
      " mqtt_suback_qos            | 0.0                  \n",
      " mqtt_ver                   | 0.0                  \n",
      " mqtt_willmsg               | 0.0                  \n",
      " mqtt_willmsg_len           | 0.0                  \n",
      " mqtt_willtopic             | 0.0                  \n",
      " mqtt_willtopic_len         | 0.0                  \n",
      " target                     | legitimate           \n",
      " train_flag                 | 1                    \n",
      "-RECORD 8------------------------------------------\n",
      " tcp_flags                  | 0x00000018           \n",
      " tcp_time_delta             | 0.99996              \n",
      " tcp_len                    | 10                   \n",
      " mqtt_conack_flags          | 0                    \n",
      " mqtt_conack_flags_reserved | 0.0                  \n",
      " mqtt_conack_flags_sp       | 0.0                  \n",
      " mqtt_conack_val            | 0.0                  \n",
      " mqtt_conflag_cleansess     | 0.0                  \n",
      " mqtt_conflag_passwd        | 0.0                  \n",
      " mqtt_conflag_qos           | 0.0                  \n",
      " mqtt_conflag_reserved      | 0.0                  \n",
      " mqtt_conflag_retain        | 0.0                  \n",
      " mqtt_conflag_uname         | 0.0                  \n",
      " mqtt_conflag_willflag      | 0.0                  \n",
      " mqtt_conflags              | 0                    \n",
      " mqtt_dupflag               | 0.0                  \n",
      " mqtt_hdrflags              | 0x00000030           \n",
      " mqtt_kalive                | 0.0                  \n",
      " mqtt_len                   | 8.0                  \n",
      " mqtt_msg                   | 30                   \n",
      " mqtt_msgid                 | 0.0                  \n",
      " mqtt_msgtype               | 3.0                  \n",
      " mqtt_proto_len             | 0.0                  \n",
      " mqtt_protoname             | 0                    \n",
      " mqtt_qos                   | 0.0                  \n",
      " mqtt_retain                | 0.0                  \n",
      " mqtt_sub_qos               | 0.0                  \n",
      " mqtt_suback_qos            | 0.0                  \n",
      " mqtt_ver                   | 0.0                  \n",
      " mqtt_willmsg               | 0.0                  \n",
      " mqtt_willmsg_len           | 0.0                  \n",
      " mqtt_willtopic             | 0.0                  \n",
      " mqtt_willtopic_len         | 0.0                  \n",
      " target                     | legitimate           \n",
      " train_flag                 | 1                    \n",
      "-RECORD 9------------------------------------------\n",
      " tcp_flags                  | 0x00000018           \n",
      " tcp_time_delta             | 0.001177             \n",
      " tcp_len                    | 112                  \n",
      " mqtt_conack_flags          | 0                    \n",
      " mqtt_conack_flags_reserved | 0.0                  \n",
      " mqtt_conack_flags_sp       | 0.0                  \n",
      " mqtt_conack_val            | 0.0                  \n",
      " mqtt_conflag_cleansess     | 0.0                  \n",
      " mqtt_conflag_passwd        | 0.0                  \n",
      " mqtt_conflag_qos           | 0.0                  \n",
      " mqtt_conflag_reserved      | 0.0                  \n",
      " mqtt_conflag_retain        | 0.0                  \n",
      " mqtt_conflag_uname         | 0.0                  \n",
      " mqtt_conflag_willflag      | 0.0                  \n",
      " mqtt_conflags              | 0                    \n",
      " mqtt_dupflag               | 0.0                  \n",
      " mqtt_hdrflags              | 0x00000040           \n",
      " mqtt_kalive                | 0.0                  \n",
      " mqtt_len                   | 2.0                  \n",
      " mqtt_msg                   | 0                    \n",
      " mqtt_msgid                 | 6659.0               \n",
      " mqtt_msgtype               | 4.0                  \n",
      " mqtt_proto_len             | 0.0                  \n",
      " mqtt_protoname             | 0                    \n",
      " mqtt_qos                   | 0.0                  \n",
      " mqtt_retain                | 0.0                  \n",
      " mqtt_sub_qos               | 0.0                  \n",
      " mqtt_suback_qos            | 0.0                  \n",
      " mqtt_ver                   | 0.0                  \n",
      " mqtt_willmsg               | 0.0                  \n",
      " mqtt_willmsg_len           | 0.0                  \n",
      " mqtt_willtopic             | 0.0                  \n",
      " mqtt_willtopic_len         | 0.0                  \n",
      " target                     | dos                  \n",
      " train_flag                 | 1                    \n",
      "-RECORD 10-----------------------------------------\n",
      " tcp_flags                  | 0x00000018           \n",
      " tcp_time_delta             | 2.6E-5               \n",
      " tcp_len                    | 362                  \n",
      " mqtt_conack_flags          | 0                    \n",
      " mqtt_conack_flags_reserved | 0.0                  \n",
      " mqtt_conack_flags_sp       | 0.0                  \n",
      " mqtt_conack_val            | 0.0                  \n",
      " mqtt_conflag_cleansess     | 0.0                  \n",
      " mqtt_conflag_passwd        | 0.0                  \n",
      " mqtt_conflag_qos           | 0.0                  \n",
      " mqtt_conflag_reserved      | 0.0                  \n",
      " mqtt_conflag_retain        | 0.0                  \n",
      " mqtt_conflag_uname         | 0.0                  \n",
      " mqtt_conflag_willflag      | 0.0                  \n",
      " mqtt_conflags              | 0                    \n",
      " mqtt_dupflag               | 0.0                  \n",
      " mqtt_hdrflags              | 0x00000032           \n",
      " mqtt_kalive                | 0.0                  \n",
      " mqtt_len                   | 174.0                \n",
      " mqtt_msg                   | 39424461353065426... \n",
      " mqtt_msgid                 | 54.0                 \n",
      " mqtt_msgtype               | 3.0                  \n",
      " mqtt_proto_len             | 0.0                  \n",
      " mqtt_protoname             | 0                    \n",
      " mqtt_qos                   | 1.0                  \n",
      " mqtt_retain                | 0.0                  \n",
      " mqtt_sub_qos               | 0.0                  \n",
      " mqtt_suback_qos            | 0.0                  \n",
      " mqtt_ver                   | 0.0                  \n",
      " mqtt_willmsg               | 0.0                  \n",
      " mqtt_willmsg_len           | 0.0                  \n",
      " mqtt_willtopic             | 0.0                  \n",
      " mqtt_willtopic_len         | 0.0                  \n",
      " target                     | dos                  \n",
      " train_flag                 | 1                    \n",
      "-RECORD 11-----------------------------------------\n",
      " tcp_flags                  | 0x00000004           \n",
      " tcp_time_delta             | 1.0E-6               \n",
      " tcp_len                    | 0                    \n",
      " mqtt_conack_flags          | 0                    \n",
      " mqtt_conack_flags_reserved | 0.0                  \n",
      " mqtt_conack_flags_sp       | 0.0                  \n",
      " mqtt_conack_val            | 0.0                  \n",
      " mqtt_conflag_cleansess     | 0.0                  \n",
      " mqtt_conflag_passwd        | 0.0                  \n",
      " mqtt_conflag_qos           | 0.0                  \n",
      " mqtt_conflag_reserved      | 0.0                  \n",
      " mqtt_conflag_retain        | 0.0                  \n",
      " mqtt_conflag_uname         | 0.0                  \n",
      " mqtt_conflag_willflag      | 0.0                  \n",
      " mqtt_conflags              | 0                    \n",
      " mqtt_dupflag               | 0.0                  \n",
      " mqtt_hdrflags              | 0                    \n",
      " mqtt_kalive                | 0.0                  \n",
      " mqtt_len                   | 0.0                  \n",
      " mqtt_msg                   | 0                    \n",
      " mqtt_msgid                 | 0.0                  \n",
      " mqtt_msgtype               | 0.0                  \n",
      " mqtt_proto_len             | 0.0                  \n",
      " mqtt_protoname             | 0                    \n",
      " mqtt_qos                   | 0.0                  \n",
      " mqtt_retain                | 0.0                  \n",
      " mqtt_sub_qos               | 0.0                  \n",
      " mqtt_suback_qos            | 0.0                  \n",
      " mqtt_ver                   | 0.0                  \n",
      " mqtt_willmsg               | 0.0                  \n",
      " mqtt_willmsg_len           | 0.0                  \n",
      " mqtt_willtopic             | 0.0                  \n",
      " mqtt_willtopic_len         | 0.0                  \n",
      " target                     | malformed            \n",
      " train_flag                 | 1                    \n",
      "-RECORD 12-----------------------------------------\n",
      " tcp_flags                  | 0x00000018           \n",
      " tcp_time_delta             | 5.0E-6               \n",
      " tcp_len                    | 13                   \n",
      " mqtt_conack_flags          | 0                    \n",
      " mqtt_conack_flags_reserved | 0.0                  \n",
      " mqtt_conack_flags_sp       | 0.0                  \n",
      " mqtt_conack_val            | 0.0                  \n",
      " mqtt_conflag_cleansess     | 0.0                  \n",
      " mqtt_conflag_passwd        | 0.0                  \n",
      " mqtt_conflag_qos           | 0.0                  \n",
      " mqtt_conflag_reserved      | 0.0                  \n",
      " mqtt_conflag_retain        | 0.0                  \n",
      " mqtt_conflag_uname         | 0.0                  \n",
      " mqtt_conflag_willflag      | 0.0                  \n",
      " mqtt_conflags              | 0                    \n",
      " mqtt_dupflag               | 0.0                  \n",
      " mqtt_hdrflags              | 0x00000030           \n",
      " mqtt_kalive                | 0.0                  \n",
      " mqtt_len                   | 11.0                 \n",
      " mqtt_msg                   | 32                   \n",
      " mqtt_msgid                 | 0.0                  \n",
      " mqtt_msgtype               | 3.0                  \n",
      " mqtt_proto_len             | 0.0                  \n",
      " mqtt_protoname             | 0                    \n",
      " mqtt_qos                   | 0.0                  \n",
      " mqtt_retain                | 0.0                  \n",
      " mqtt_sub_qos               | 0.0                  \n",
      " mqtt_suback_qos            | 0.0                  \n",
      " mqtt_ver                   | 0.0                  \n",
      " mqtt_willmsg               | 0.0                  \n",
      " mqtt_willmsg_len           | 0.0                  \n",
      " mqtt_willtopic             | 0.0                  \n",
      " mqtt_willtopic_len         | 0.0                  \n",
      " target                     | legitimate           \n",
      " train_flag                 | 1                    \n",
      "-RECORD 13-----------------------------------------\n",
      " tcp_flags                  | 0x00000018           \n",
      " tcp_time_delta             | 5.0E-6               \n",
      " tcp_len                    | 13                   \n",
      " mqtt_conack_flags          | 0                    \n",
      " mqtt_conack_flags_reserved | 0.0                  \n",
      " mqtt_conack_flags_sp       | 0.0                  \n",
      " mqtt_conack_val            | 0.0                  \n",
      " mqtt_conflag_cleansess     | 0.0                  \n",
      " mqtt_conflag_passwd        | 0.0                  \n",
      " mqtt_conflag_qos           | 0.0                  \n",
      " mqtt_conflag_reserved      | 0.0                  \n",
      " mqtt_conflag_retain        | 0.0                  \n",
      " mqtt_conflag_uname         | 0.0                  \n",
      " mqtt_conflag_willflag      | 0.0                  \n",
      " mqtt_conflags              | 0                    \n",
      " mqtt_dupflag               | 0.0                  \n",
      " mqtt_hdrflags              | 0x00000030           \n",
      " mqtt_kalive                | 0.0                  \n",
      " mqtt_len                   | 11.0                 \n",
      " mqtt_msg                   | 30                   \n",
      " mqtt_msgid                 | 0.0                  \n",
      " mqtt_msgtype               | 3.0                  \n",
      " mqtt_proto_len             | 0.0                  \n",
      " mqtt_protoname             | 0                    \n",
      " mqtt_qos                   | 0.0                  \n",
      " mqtt_retain                | 0.0                  \n",
      " mqtt_sub_qos               | 0.0                  \n",
      " mqtt_suback_qos            | 0.0                  \n",
      " mqtt_ver                   | 0.0                  \n",
      " mqtt_willmsg               | 0.0                  \n",
      " mqtt_willmsg_len           | 0.0                  \n",
      " mqtt_willtopic             | 0.0                  \n",
      " mqtt_willtopic_len         | 0.0                  \n",
      " target                     | legitimate           \n",
      " train_flag                 | 1                    \n",
      "-RECORD 14-----------------------------------------\n",
      " tcp_flags                  | 0x00000018           \n",
      " tcp_time_delta             | 0.001523             \n",
      " tcp_len                    | 4                    \n",
      " mqtt_conack_flags          | 0x00000000           \n",
      " mqtt_conack_flags_reserved | 0.0                  \n",
      " mqtt_conack_flags_sp       | 0.0                  \n",
      " mqtt_conack_val            | 5.0                  \n",
      " mqtt_conflag_cleansess     | 0.0                  \n",
      " mqtt_conflag_passwd        | 0.0                  \n",
      " mqtt_conflag_qos           | 0.0                  \n",
      " mqtt_conflag_reserved      | 0.0                  \n",
      " mqtt_conflag_retain        | 0.0                  \n",
      " mqtt_conflag_uname         | 0.0                  \n",
      " mqtt_conflag_willflag      | 0.0                  \n",
      " mqtt_conflags              | 0                    \n",
      " mqtt_dupflag               | 0.0                  \n",
      " mqtt_hdrflags              | 0x00000020           \n",
      " mqtt_kalive                | 0.0                  \n",
      " mqtt_len                   | 2.0                  \n",
      " mqtt_msg                   | 0                    \n",
      " mqtt_msgid                 | 0.0                  \n",
      " mqtt_msgtype               | 2.0                  \n",
      " mqtt_proto_len             | 0.0                  \n",
      " mqtt_protoname             | 0                    \n",
      " mqtt_qos                   | 0.0                  \n",
      " mqtt_retain                | 0.0                  \n",
      " mqtt_sub_qos               | 0.0                  \n",
      " mqtt_suback_qos            | 0.0                  \n",
      " mqtt_ver                   | 0.0                  \n",
      " mqtt_willmsg               | 0.0                  \n",
      " mqtt_willmsg_len           | 0.0                  \n",
      " mqtt_willtopic             | 0.0                  \n",
      " mqtt_willtopic_len         | 0.0                  \n",
      " target                     | bruteforce           \n",
      " train_flag                 | 1                    \n",
      "-RECORD 15-----------------------------------------\n",
      " tcp_flags                  | 0x00000018           \n",
      " tcp_time_delta             | 2.0E-6               \n",
      " tcp_len                    | 4                    \n",
      " mqtt_conack_flags          | 0                    \n",
      " mqtt_conack_flags_reserved | 0.0                  \n",
      " mqtt_conack_flags_sp       | 0.0                  \n",
      " mqtt_conack_val            | 0.0                  \n",
      " mqtt_conflag_cleansess     | 0.0                  \n",
      " mqtt_conflag_passwd        | 0.0                  \n",
      " mqtt_conflag_qos           | 0.0                  \n",
      " mqtt_conflag_reserved      | 0.0                  \n",
      " mqtt_conflag_retain        | 0.0                  \n",
      " mqtt_conflag_uname         | 0.0                  \n",
      " mqtt_conflag_willflag      | 0.0                  \n",
      " mqtt_conflags              | 0                    \n",
      " mqtt_dupflag               | 0.0                  \n",
      " mqtt_hdrflags              | 0x00000040           \n",
      " mqtt_kalive                | 0.0                  \n",
      " mqtt_len                   | 2.0                  \n",
      " mqtt_msg                   | 0                    \n",
      " mqtt_msgid                 | 3273.0               \n",
      " mqtt_msgtype               | 4.0                  \n",
      " mqtt_proto_len             | 0.0                  \n",
      " mqtt_protoname             | 0                    \n",
      " mqtt_qos                   | 0.0                  \n",
      " mqtt_retain                | 0.0                  \n",
      " mqtt_sub_qos               | 0.0                  \n",
      " mqtt_suback_qos            | 0.0                  \n",
      " mqtt_ver                   | 0.0                  \n",
      " mqtt_willmsg               | 0.0                  \n",
      " mqtt_willmsg_len           | 0.0                  \n",
      " mqtt_willtopic             | 0.0                  \n",
      " mqtt_willtopic_len         | 0.0                  \n",
      " target                     | dos                  \n",
      " train_flag                 | 1                    \n",
      "-RECORD 16-----------------------------------------\n",
      " tcp_flags                  | 0x00000018           \n",
      " tcp_time_delta             | 1.0E-6               \n",
      " tcp_len                    | 72                   \n",
      " mqtt_conack_flags          | 0                    \n",
      " mqtt_conack_flags_reserved | 0.0                  \n",
      " mqtt_conack_flags_sp       | 0.0                  \n",
      " mqtt_conack_val            | 0.0                  \n",
      " mqtt_conflag_cleansess     | 0.0                  \n",
      " mqtt_conflag_passwd        | 0.0                  \n",
      " mqtt_conflag_qos           | 0.0                  \n",
      " mqtt_conflag_reserved      | 0.0                  \n",
      " mqtt_conflag_retain        | 0.0                  \n",
      " mqtt_conflag_uname         | 0.0                  \n",
      " mqtt_conflag_willflag      | 0.0                  \n",
      " mqtt_conflags              | 0                    \n",
      " mqtt_dupflag               | 0.0                  \n",
      " mqtt_hdrflags              | 0x00000040           \n",
      " mqtt_kalive                | 0.0                  \n",
      " mqtt_len                   | 2.0                  \n",
      " mqtt_msg                   | 0                    \n",
      " mqtt_msgid                 | 3566.0               \n",
      " mqtt_msgtype               | 4.0                  \n",
      " mqtt_proto_len             | 0.0                  \n",
      " mqtt_protoname             | 0                    \n",
      " mqtt_qos                   | 0.0                  \n",
      " mqtt_retain                | 0.0                  \n",
      " mqtt_sub_qos               | 0.0                  \n",
      " mqtt_suback_qos            | 0.0                  \n",
      " mqtt_ver                   | 0.0                  \n",
      " mqtt_willmsg               | 0.0                  \n",
      " mqtt_willmsg_len           | 0.0                  \n",
      " mqtt_willtopic             | 0.0                  \n",
      " mqtt_willtopic_len         | 0.0                  \n",
      " target                     | dos                  \n",
      " train_flag                 | 1                    \n",
      "-RECORD 17-----------------------------------------\n",
      " tcp_flags                  | 0x00000010           \n",
      " tcp_time_delta             | 8.92E-4              \n",
      " tcp_len                    | 0                    \n",
      " mqtt_conack_flags          | 0                    \n",
      " mqtt_conack_flags_reserved | 0.0                  \n",
      " mqtt_conack_flags_sp       | 0.0                  \n",
      " mqtt_conack_val            | 0.0                  \n",
      " mqtt_conflag_cleansess     | 0.0                  \n",
      " mqtt_conflag_passwd        | 0.0                  \n",
      " mqtt_conflag_qos           | 0.0                  \n",
      " mqtt_conflag_reserved      | 0.0                  \n",
      " mqtt_conflag_retain        | 0.0                  \n",
      " mqtt_conflag_uname         | 0.0                  \n",
      " mqtt_conflag_willflag      | 0.0                  \n",
      " mqtt_conflags              | 0                    \n",
      " mqtt_dupflag               | 0.0                  \n",
      " mqtt_hdrflags              | 0                    \n",
      " mqtt_kalive                | 0.0                  \n",
      " mqtt_len                   | 0.0                  \n",
      " mqtt_msg                   | 0                    \n",
      " mqtt_msgid                 | 0.0                  \n",
      " mqtt_msgtype               | 0.0                  \n",
      " mqtt_proto_len             | 0.0                  \n",
      " mqtt_protoname             | 0                    \n",
      " mqtt_qos                   | 0.0                  \n",
      " mqtt_retain                | 0.0                  \n",
      " mqtt_sub_qos               | 0.0                  \n",
      " mqtt_suback_qos            | 0.0                  \n",
      " mqtt_ver                   | 0.0                  \n",
      " mqtt_willmsg               | 0.0                  \n",
      " mqtt_willmsg_len           | 0.0                  \n",
      " mqtt_willtopic             | 0.0                  \n",
      " mqtt_willtopic_len         | 0.0                  \n",
      " target                     | bruteforce           \n",
      " train_flag                 | 1                    \n",
      "-RECORD 18-----------------------------------------\n",
      " tcp_flags                  | 0x00000010           \n",
      " tcp_time_delta             | 3.0E-6               \n",
      " tcp_len                    | 0                    \n",
      " mqtt_conack_flags          | 0                    \n",
      " mqtt_conack_flags_reserved | 0.0                  \n",
      " mqtt_conack_flags_sp       | 0.0                  \n",
      " mqtt_conack_val            | 0.0                  \n",
      " mqtt_conflag_cleansess     | 0.0                  \n",
      " mqtt_conflag_passwd        | 0.0                  \n",
      " mqtt_conflag_qos           | 0.0                  \n",
      " mqtt_conflag_reserved      | 0.0                  \n",
      " mqtt_conflag_retain        | 0.0                  \n",
      " mqtt_conflag_uname         | 0.0                  \n",
      " mqtt_conflag_willflag      | 0.0                  \n",
      " mqtt_conflags              | 0                    \n",
      " mqtt_dupflag               | 0.0                  \n",
      " mqtt_hdrflags              | 0                    \n",
      " mqtt_kalive                | 0.0                  \n",
      " mqtt_len                   | 0.0                  \n",
      " mqtt_msg                   | 0                    \n",
      " mqtt_msgid                 | 0.0                  \n",
      " mqtt_msgtype               | 0.0                  \n",
      " mqtt_proto_len             | 0.0                  \n",
      " mqtt_protoname             | 0                    \n",
      " mqtt_qos                   | 0.0                  \n",
      " mqtt_retain                | 0.0                  \n",
      " mqtt_sub_qos               | 0.0                  \n",
      " mqtt_suback_qos            | 0.0                  \n",
      " mqtt_ver                   | 0.0                  \n",
      " mqtt_willmsg               | 0.0                  \n",
      " mqtt_willmsg_len           | 0.0                  \n",
      " mqtt_willtopic             | 0.0                  \n",
      " mqtt_willtopic_len         | 0.0                  \n",
      " target                     | legitimate           \n",
      " train_flag                 | 1                    \n",
      "-RECORD 19-----------------------------------------\n",
      " tcp_flags                  | 0x00000010           \n",
      " tcp_time_delta             | 6.2E-5               \n",
      " tcp_len                    | 1460                 \n",
      " mqtt_conack_flags          | 0                    \n",
      " mqtt_conack_flags_reserved | 0.0                  \n",
      " mqtt_conack_flags_sp       | 0.0                  \n",
      " mqtt_conack_val            | 0.0                  \n",
      " mqtt_conflag_cleansess     | 0.0                  \n",
      " mqtt_conflag_passwd        | 0.0                  \n",
      " mqtt_conflag_qos           | 0.0                  \n",
      " mqtt_conflag_reserved      | 0.0                  \n",
      " mqtt_conflag_retain        | 0.0                  \n",
      " mqtt_conflag_uname         | 0.0                  \n",
      " mqtt_conflag_willflag      | 0.0                  \n",
      " mqtt_conflags              | 0                    \n",
      " mqtt_dupflag               | 1.0                  \n",
      " mqtt_hdrflags              | 0x0000003a           \n",
      " mqtt_kalive                | 0.0                  \n",
      " mqtt_len                   | 166.0                \n",
      " mqtt_msg                   | 33356265424531634... \n",
      " mqtt_msgid                 | 1269.0               \n",
      " mqtt_msgtype               | 3.0                  \n",
      " mqtt_proto_len             | 0.0                  \n",
      " mqtt_protoname             | 0                    \n",
      " mqtt_qos                   | 1.0                  \n",
      " mqtt_retain                | 0.0                  \n",
      " mqtt_sub_qos               | 0.0                  \n",
      " mqtt_suback_qos            | 0.0                  \n",
      " mqtt_ver                   | 0.0                  \n",
      " mqtt_willmsg               | 0.0                  \n",
      " mqtt_willmsg_len           | 0.0                  \n",
      " mqtt_willtopic             | 0.0                  \n",
      " mqtt_willtopic_len         | 0.0                  \n",
      " target                     | dos                  \n",
      " train_flag                 | 1                    \n",
      "only showing top 20 rows\n",
      "\n"
     ]
    },
    {
     "name": "stderr",
     "output_type": "stream",
     "text": [
      "                                                                                \r"
     ]
    }
   ],
   "source": [
    "df_comb = df_train.union(df_test)\n",
    "df_comb.printSchema()\n",
    "df_comb.show(vertical = True)"
   ]
  },
  {
   "cell_type": "code",
   "execution_count": 5,
   "id": "be09a63b",
   "metadata": {},
   "outputs": [],
   "source": [
    "db_properties={}\n",
    "#update your db username\n",
    "db_properties['username']=\"postgres\"\n",
    "#update your db password\n",
    "db_properties['password']=\"asdfghjkl@23456\"\n",
    "db_properties['url']= \"jdbc:postgresql://34.134.0.74/postgres\"\n",
    "db_properties['table']= \"MQTT_Reduced\" #created schema in Cloud SQL Instance using gcloud CLI\n",
    "db_properties['Driver'] = 'org.postgresql.Driver'\n",
    "\n",
    "# df_comb.write.format(\"jdbc\")\\\n",
    "# .mode(\"overwrite\")\\\n",
    "# .option(\"url\", db_properties['url'])\\\n",
    "# .option(\"dbtable\", db_properties['table'])\\\n",
    "# .option(\"user\", db_properties['username'])\\\n",
    "# .option(\"password\", db_properties['password'])\\\n",
    "# .option('Driver', db_properties['Driver'])\\\n",
    "# .save()"
   ]
  },
  {
   "cell_type": "code",
   "execution_count": 6,
   "id": "ef13c238",
   "metadata": {},
   "outputs": [
    {
     "name": "stderr",
     "output_type": "stream",
     "text": [
      "[Stage 1:>                                                          (0 + 1) / 1]\r"
     ]
    },
    {
     "name": "stdout",
     "output_type": "stream",
     "text": [
      "-RECORD 0--------------------------------\n",
      " tcp_flags                  | 0x00000018 \n",
      " tcp_time_delta             | 0.998867   \n",
      " tcp_len                    | 10         \n",
      " mqtt_conack_flags          | 0          \n",
      " mqtt_conack_flags_reserved | 0.0        \n",
      " mqtt_conack_flags_sp       | 0.0        \n",
      " mqtt_conack_val            | 0.0        \n",
      " mqtt_conflag_cleansess     | 0.0        \n",
      " mqtt_conflag_passwd        | 0.0        \n",
      " mqtt_conflag_qos           | 0.0        \n",
      " mqtt_conflag_reserved      | 0.0        \n",
      " mqtt_conflag_retain        | 0.0        \n",
      " mqtt_conflag_uname         | 0.0        \n",
      " mqtt_conflag_willflag      | 0.0        \n",
      " mqtt_conflags              | 0          \n",
      " mqtt_dupflag               | 0.0        \n",
      " mqtt_hdrflags              | 0x00000030 \n",
      " mqtt_kalive                | 0.0        \n",
      " mqtt_len                   | 8.0        \n",
      " mqtt_msg                   | 32         \n",
      " mqtt_msgid                 | 0.0        \n",
      " mqtt_msgtype               | 3.0        \n",
      " mqtt_proto_len             | 0.0        \n",
      " mqtt_protoname             | 0          \n",
      " mqtt_qos                   | 0.0        \n",
      " mqtt_retain                | 0.0        \n",
      " mqtt_sub_qos               | 0.0        \n",
      " mqtt_suback_qos            | 0.0        \n",
      " mqtt_ver                   | 0.0        \n",
      " mqtt_willmsg               | 0.0        \n",
      " mqtt_willmsg_len           | 0.0        \n",
      " mqtt_willtopic             | 0.0        \n",
      " mqtt_willtopic_len         | 0.0        \n",
      " target                     | legitimate \n",
      " train_flag                 | 1          \n",
      "only showing top 1 row\n",
      "\n"
     ]
    },
    {
     "name": "stderr",
     "output_type": "stream",
     "text": [
      "                                                                                \r"
     ]
    }
   ],
   "source": [
    "df_read = sqlContext.read.format(\"jdbc\")\\\n",
    "    .option(\"url\", db_properties['url'])\\\n",
    "    .option(\"dbtable\", db_properties['table'])\\\n",
    "    .option(\"user\", db_properties['username'])\\\n",
    "    .option(\"password\", db_properties['password'])\\\n",
    "    .option(\"Driver\", db_properties['Driver'])\\\n",
    "    .load()\n",
    "\n",
    "df_read.show(1, vertical=True)"
   ]
  },
  {
   "cell_type": "markdown",
   "id": "0a64e4f6",
   "metadata": {},
   "source": [
    "Checking null counts of columns"
   ]
  },
  {
   "cell_type": "code",
   "execution_count": 7,
   "id": "3ced77ac",
   "metadata": {},
   "outputs": [
    {
     "name": "stderr",
     "output_type": "stream",
     "text": [
      "[Stage 3:>                                                          (0 + 1) / 1]\r"
     ]
    },
    {
     "name": "stdout",
     "output_type": "stream",
     "text": [
      "-RECORD 0-------------------------\n",
      " tcp_flags                  | 0   \n",
      " tcp_time_delta             | 0   \n",
      " tcp_len                    | 0   \n",
      " mqtt_conack_flags          | 0   \n",
      " mqtt_conack_flags_reserved | 0   \n",
      " mqtt_conack_flags_sp       | 0   \n",
      " mqtt_conack_val            | 0   \n",
      " mqtt_conflag_cleansess     | 0   \n",
      " mqtt_conflag_passwd        | 0   \n",
      " mqtt_conflag_qos           | 0   \n",
      " mqtt_conflag_reserved      | 0   \n",
      " mqtt_conflag_retain        | 0   \n",
      " mqtt_conflag_uname         | 0   \n",
      " mqtt_conflag_willflag      | 0   \n",
      " mqtt_conflags              | 0   \n",
      " mqtt_dupflag               | 0   \n",
      " mqtt_hdrflags              | 0   \n",
      " mqtt_kalive                | 0   \n",
      " mqtt_len                   | 0   \n",
      " mqtt_msg                   | 0   \n",
      " mqtt_msgid                 | 0   \n",
      " mqtt_msgtype               | 0   \n",
      " mqtt_proto_len             | 0   \n",
      " mqtt_protoname             | 0   \n",
      " mqtt_qos                   | 0   \n",
      " mqtt_retain                | 0   \n",
      " mqtt_sub_qos               | 0   \n",
      " mqtt_suback_qos            | 0   \n",
      " mqtt_ver                   | 0   \n",
      " mqtt_willmsg               | 0   \n",
      " mqtt_willmsg_len           | 0   \n",
      " mqtt_willtopic             | 0   \n",
      " mqtt_willtopic_len         | 0   \n",
      " target                     | 0   \n",
      " train_flag                 | 0   \n",
      "\n"
     ]
    },
    {
     "name": "stderr",
     "output_type": "stream",
     "text": [
      "                                                                                \r"
     ]
    }
   ],
   "source": [
    "null_counts_df = df_read.select([count(when(isnan(c) | col(c).isNull(), c)).alias(c) \\\n",
    "                        for c in df_read.columns])\n",
    "\n",
    "null_counts_df.show(truncate=False, vertical=True)"
   ]
  },
  {
   "cell_type": "markdown",
   "id": "e7db0b01",
   "metadata": {},
   "source": [
    "No null values found, however I observed there were a lot of columns with just 0 in them. Let us find out which are those. "
   ]
  },
  {
   "cell_type": "code",
   "execution_count": 8,
   "id": "26e1324c",
   "metadata": {},
   "outputs": [
    {
     "name": "stderr",
     "output_type": "stream",
     "text": [
      "[Stage 6:>                                                          (0 + 1) / 1]\r"
     ]
    },
    {
     "name": "stdout",
     "output_type": "stream",
     "text": [
      "-RECORD 0----------------------------------------\n",
      " tcp_flags                  | 0.0                \n",
      " tcp_time_delta             | 9.349541905383518  \n",
      " tcp_len                    | 37.288176565861676 \n",
      " mqtt_conack_flags          | 99.00826745956923  \n",
      " mqtt_conack_flags_reserved | 100.0              \n",
      " mqtt_conack_flags_sp       | 100.0              \n",
      " mqtt_conack_val            | 99.56849662774675  \n",
      " mqtt_conflag_cleansess     | 99.00826745956923  \n",
      " mqtt_conflag_passwd        | 99.57030966712597  \n",
      " mqtt_conflag_qos           | 100.0              \n",
      " mqtt_conflag_reserved      | 100.0              \n",
      " mqtt_conflag_retain        | 100.0              \n",
      " mqtt_conflag_uname         | 99.56910097420649  \n",
      " mqtt_conflag_willflag      | 100.0              \n",
      " mqtt_conflags              | 99.00826745956923  \n",
      " mqtt_dupflag               | 94.34724538883651  \n",
      " mqtt_hdrflags              | 37.599717165856845 \n",
      " mqtt_kalive                | 99.00826745956923  \n",
      " mqtt_len                   | 38.45909783160491  \n",
      " mqtt_msg                   | 52.2530036019049   \n",
      " mqtt_msgid                 | 71.72927695989557  \n",
      " mqtt_msgtype               | 37.599717165856845 \n",
      " mqtt_proto_len             | 99.00826745956923  \n",
      " mqtt_protoname             | 99.00826745956923  \n",
      " mqtt_qos                   | 83.55240892498853  \n",
      " mqtt_retain                | 99.96343703918582  \n",
      " mqtt_sub_qos               | 100.0              \n",
      " mqtt_suback_qos            | 100.0              \n",
      " mqtt_ver                   | 99.00826745956923  \n",
      " mqtt_willmsg               | 100.0              \n",
      " mqtt_willmsg_len           | 100.0              \n",
      " mqtt_willtopic             | 100.0              \n",
      " mqtt_willtopic_len         | 100.0              \n",
      " target                     | 0.0                \n",
      " train_flag                 | 30.002779993714796 \n",
      "\n"
     ]
    },
    {
     "name": "stderr",
     "output_type": "stream",
     "text": [
      "                                                                                \r"
     ]
    }
   ],
   "source": [
    "zero_counts_df = df_read.select([(count(when(col(c) == 0, c))/count(col(c)) * 100).alias(c) \\\n",
    "                        for c in df_read.columns])\n",
    "\n",
    "zero_counts_df.show(truncate=False, vertical=True)"
   ]
  },
  {
   "cell_type": "markdown",
   "id": "49210148",
   "metadata": {},
   "source": [
    "We can see a lot of columns have more than 90% of values as 0. These will not be useful in our machine learning models, hence can be dropped. "
   ]
  },
  {
   "cell_type": "code",
   "execution_count": 9,
   "id": "294a76fb",
   "metadata": {},
   "outputs": [
    {
     "name": "stderr",
     "output_type": "stream",
     "text": [
      "[Stage 9:>                                                          (0 + 1) / 1]\r"
     ]
    },
    {
     "name": "stdout",
     "output_type": "stream",
     "text": [
      "['mqtt_conack_flags', 'mqtt_conack_flags_reserved', 'mqtt_conack_flags_sp', 'mqtt_conack_val', 'mqtt_conflag_cleansess', 'mqtt_conflag_passwd', 'mqtt_conflag_qos', 'mqtt_conflag_reserved', 'mqtt_conflag_retain', 'mqtt_conflag_uname', 'mqtt_conflag_willflag', 'mqtt_conflags', 'mqtt_dupflag', 'mqtt_kalive', 'mqtt_proto_len', 'mqtt_protoname', 'mqtt_retain', 'mqtt_sub_qos', 'mqtt_suback_qos', 'mqtt_ver', 'mqtt_willmsg', 'mqtt_willmsg_len', 'mqtt_willtopic', 'mqtt_willtopic_len']\n"
     ]
    },
    {
     "name": "stderr",
     "output_type": "stream",
     "text": [
      "                                                                                \r"
     ]
    }
   ],
   "source": [
    "zero_pd = zero_counts_df.toPandas()\n",
    "drop_columns = []\n",
    "for column in zero_pd.columns:\n",
    "    if zero_pd[column][0] > 90:\n",
    "        drop_columns.append(column)\n",
    "        \n",
    "print(drop_columns)\n",
    "df_drop = df_read"
   ]
  },
  {
   "cell_type": "code",
   "execution_count": 10,
   "id": "34c9dc8a",
   "metadata": {},
   "outputs": [
    {
     "name": "stdout",
     "output_type": "stream",
     "text": [
      "-RECORD 0--------------------\n",
      " tcp_flags      | 0x00000010 \n",
      " tcp_time_delta | 7.0E-6     \n",
      " tcp_len        | 0          \n",
      " mqtt_hdrflags  | 0          \n",
      " mqtt_len       | 0.0        \n",
      " mqtt_msg       | 0          \n",
      " mqtt_msgid     | 0.0        \n",
      " mqtt_msgtype   | 0.0        \n",
      " mqtt_qos       | 0.0        \n",
      " target         | dos        \n",
      " train_flag     | 1          \n",
      "only showing top 1 row\n",
      "\n"
     ]
    }
   ],
   "source": [
    "for column in drop_columns:\n",
    "    df_drop = df_drop.drop(column)\n",
    "    \n",
    "df_drop.show(1, vertical = True)"
   ]
  },
  {
   "cell_type": "markdown",
   "id": "3049ff74",
   "metadata": {},
   "source": [
    "Creating boxplots to visualize outliers"
   ]
  },
  {
   "cell_type": "code",
   "execution_count": 12,
   "id": "cabda09b",
   "metadata": {},
   "outputs": [
    {
     "name": "stderr",
     "output_type": "stream",
     "text": [
      "                                                                                \r"
     ]
    },
    {
     "data": {
      "text/plain": [
       "{'whiskers': [<matplotlib.lines.Line2D at 0x7f0697dcb5b0>,\n",
       "  <matplotlib.lines.Line2D at 0x7f0697dcb8b0>,\n",
       "  <matplotlib.lines.Line2D at 0x7f0697a389a0>,\n",
       "  <matplotlib.lines.Line2D at 0x7f0697a38ca0>],\n",
       " 'caps': [<matplotlib.lines.Line2D at 0x7f0697dcbbb0>,\n",
       "  <matplotlib.lines.Line2D at 0x7f0697dcbe80>,\n",
       "  <matplotlib.lines.Line2D at 0x7f0697a38f70>,\n",
       "  <matplotlib.lines.Line2D at 0x7f0697a39240>],\n",
       " 'boxes': [<matplotlib.lines.Line2D at 0x7f0697dcb2e0>,\n",
       "  <matplotlib.lines.Line2D at 0x7f0697a386d0>],\n",
       " 'medians': [<matplotlib.lines.Line2D at 0x7f0697a38130>,\n",
       "  <matplotlib.lines.Line2D at 0x7f0697a39510>],\n",
       " 'fliers': [<matplotlib.lines.Line2D at 0x7f0697a38400>,\n",
       "  <matplotlib.lines.Line2D at 0x7f0697a397e0>],\n",
       " 'means': []}"
      ]
     },
     "execution_count": 12,
     "metadata": {},
     "output_type": "execute_result"
    },
    {
     "data": {
      "image/png": "[encoded data removed]",
      "text/plain": [
       "<Figure size 640x480 with 1 Axes>"
      ]
     },
     "metadata": {},
     "output_type": "display_data"
    }
   ],
   "source": [
    "plt.boxplot(df_drop[['tcp_len', 'mqtt_len']].toPandas())"
   ]
  },
  {
   "cell_type": "code",
   "execution_count": 13,
   "id": "1512199b",
   "metadata": {},
   "outputs": [
    {
     "name": "stderr",
     "output_type": "stream",
     "text": [
      "                                                                                \r"
     ]
    },
    {
     "data": {
      "text/plain": [
       "{'whiskers': [<matplotlib.lines.Line2D at 0x7f0694f86e30>,\n",
       "  <matplotlib.lines.Line2D at 0x7f0694f87100>],\n",
       " 'caps': [<matplotlib.lines.Line2D at 0x7f0694f873d0>,\n",
       "  <matplotlib.lines.Line2D at 0x7f0694f876a0>],\n",
       " 'boxes': [<matplotlib.lines.Line2D at 0x7f0694f86b60>],\n",
       " 'medians': [<matplotlib.lines.Line2D at 0x7f0694f87970>],\n",
       " 'fliers': [<matplotlib.lines.Line2D at 0x7f0694f87c40>],\n",
       " 'means': []}"
      ]
     },
     "execution_count": 13,
     "metadata": {},
     "output_type": "execute_result"
    },
    {
     "data": {
      "image/png": "[encoded data removed]",
      "text/plain": [
       "<Figure size 640x480 with 1 Axes>"
      ]
     },
     "metadata": {},
     "output_type": "display_data"
    }
   ],
   "source": [
    "plt.boxplot(df_drop[['tcp_time_delta']].toPandas())"
   ]
  },
  {
   "cell_type": "code",
   "execution_count": 14,
   "id": "b7cc55ed",
   "metadata": {},
   "outputs": [],
   "source": [
    "from functools import reduce\n",
    "\n",
    "def column_add(a,b):\n",
    "     return  a.__add__(b)\n",
    "    \n",
    "def find_outliers(df):\n",
    "    # Identifying the numerical columns in a spark dataframe\n",
    "    numeric_columns = [column[0] for column in df.dtypes if column[1]=='int']\n",
    "\n",
    "    # Using the `for` loop to create new columns by identifying the outliers for each feature\n",
    "    for column in numeric_columns:\n",
    "\n",
    "        less_Q1 = 'less_Q1_{}'.format(column)\n",
    "        more_Q3 = 'more_Q3_{}'.format(column)\n",
    "        Q1 = 'Q1_{}'.format(column)\n",
    "        Q3 = 'Q3_{}'.format(column)\n",
    "\n",
    "        # Q1 : First Quartile ., Q3 : Third Quartile\n",
    "        Q1 = df.approxQuantile(column,[0.25],relativeError=0)\n",
    "        Q3 = df.approxQuantile(column,[0.75],relativeError=0)\n",
    "        \n",
    "        # IQR : Inter Quantile Range\n",
    "        # We need to define the index [0], as Q1 & Q3 are a set of lists., to perform a mathematical operation\n",
    "        # Q1 & Q3 are defined seperately so as to have a clear indication on First Quantile & 3rd Quantile\n",
    "        IQR = Q3[0] - Q1[0]\n",
    "        \n",
    "        #selecting the data, with -1.5*IQR to + 1.5*IQR., where param = 1.5 default value\n",
    "        less_Q1 =  Q1[0] - 1.5*IQR\n",
    "        more_Q3 =  Q3[0] + 1.5*IQR\n",
    "        \n",
    "        isOutlierCol = 'is_outlier_{}'.format(column)\n",
    "        \n",
    "        df = df.withColumn(isOutlierCol,when((df[column] > more_Q3) | (df[column] < less_Q1), 1).otherwise(0))\n",
    "    \n",
    "\n",
    "    # Selecting the specific columns which we have added above, to check if there are any outliers\n",
    "    selected_columns = [column for column in df.columns if column.startswith(\"is_outlier\")]\n",
    "    # Adding all the outlier columns into a new colum \"total_outliers\", to see the total number of outliers\n",
    "    df = df.withColumn('total_outliers',reduce(column_add, ( df[col] for col in  selected_columns)))\n",
    "\n",
    "    # Dropping the extra columns created above, just to create nice dataframe., without extra columns\n",
    "    df = df.drop(*[column for column in df.columns if column.startswith(\"is_outlier\")])\n",
    "\n",
    "    return df"
   ]
  },
  {
   "cell_type": "code",
   "execution_count": 15,
   "id": "14b9b2eb",
   "metadata": {},
   "outputs": [
    {
     "name": "stderr",
     "output_type": "stream",
     "text": [
      "                                                                                \r"
     ]
    },
    {
     "name": "stdout",
     "output_type": "stream",
     "text": [
      "-RECORD 0--------------------\n",
      " tcp_flags      | 0x00000018 \n",
      " tcp_time_delta | 0.998867   \n",
      " tcp_len        | 10         \n",
      " mqtt_hdrflags  | 0x00000030 \n",
      " mqtt_len       | 8.0        \n",
      " mqtt_msg       | 32         \n",
      " mqtt_msgid     | 0.0        \n",
      " mqtt_msgtype   | 3.0        \n",
      " mqtt_qos       | 0.0        \n",
      " target         | legitimate \n",
      " train_flag     | 1          \n",
      " total_outliers | 0          \n",
      "only showing top 1 row\n",
      "\n"
     ]
    }
   ],
   "source": [
    "df_with_outlier_handling = find_outliers(df_drop)\n",
    "df_with_outlier_handling.show(1, vertical=True)"
   ]
  },
  {
   "cell_type": "code",
   "execution_count": 16,
   "id": "07feb02d",
   "metadata": {},
   "outputs": [
    {
     "name": "stderr",
     "output_type": "stream",
     "text": [
      "[Stage 19:================================================>         (5 + 1) / 6]\r"
     ]
    },
    {
     "name": "stdout",
     "output_type": "stream",
     "text": [
      "+--------------+------+\n",
      "|total_outliers| count|\n",
      "+--------------+------+\n",
      "|             1| 61133|\n",
      "|             0|269803|\n",
      "+--------------+------+\n",
      "\n"
     ]
    },
    {
     "name": "stderr",
     "output_type": "stream",
     "text": [
      "                                                                                \r"
     ]
    }
   ],
   "source": [
    "df_with_outlier_handling.groupby(\"total_outliers\").count().show()"
   ]
  },
  {
   "cell_type": "markdown",
   "id": "9eb38239",
   "metadata": {},
   "source": [
    "No rows with significant number of outliers found"
   ]
  },
  {
   "cell_type": "code",
   "execution_count": 17,
   "id": "31d87f40",
   "metadata": {},
   "outputs": [],
   "source": [
    "numeric_features = ['tcp_time_delta',\n",
    " 'tcp_len',\n",
    " 'mqtt_len',\n",
    " 'mqtt_msgid',\n",
    " 'mqtt_msgtype',\n",
    " 'mqtt_qos',]"
   ]
  },
  {
   "cell_type": "code",
   "execution_count": 18,
   "id": "1fec300b",
   "metadata": {},
   "outputs": [
    {
     "name": "stderr",
     "output_type": "stream",
     "text": [
      "                                                                                \r"
     ]
    },
    {
     "name": "stdout",
     "output_type": "stream",
     "text": [
      "                tcp_time_delta   tcp_len  mqtt_len  mqtt_msgid  mqtt_msgtype  \\\n",
      "tcp_time_delta        1.000000 -0.006839 -0.036893   -0.048444      0.282967   \n",
      "tcp_len              -0.006839  1.000000  0.274388    0.167136      0.085966   \n",
      "mqtt_len             -0.036893  0.274388  1.000000    0.595785      0.261949   \n",
      "mqtt_msgid           -0.048444  0.167136  0.595785    1.000000      0.390695   \n",
      "mqtt_msgtype          0.282967  0.085966  0.261949    0.390695      1.000000   \n",
      "mqtt_qos             -0.038094  0.271450  0.988156    0.612174      0.228781   \n",
      "\n",
      "                mqtt_qos  \n",
      "tcp_time_delta -0.038094  \n",
      "tcp_len         0.271450  \n",
      "mqtt_len        0.988156  \n",
      "mqtt_msgid      0.612174  \n",
      "mqtt_msgtype    0.228781  \n",
      "mqtt_qos        1.000000  \n"
     ]
    }
   ],
   "source": [
    "correlation_matrix = df_drop[numeric_features].toPandas().corr()\n",
    "print(correlation_matrix)"
   ]
  },
  {
   "cell_type": "markdown",
   "id": "b0b34d49",
   "metadata": {},
   "source": [
    "MQTT_LEN and MQTT_QOS have correlation of 0.988. Dropping MQTT_QOS. Also MQTT_MSQ is the actual content of the message which will be difficult to one hot encode or convert ot numerical values. This can be dropped too. "
   ]
  },
  {
   "cell_type": "code",
   "execution_count": 11,
   "id": "45713e01",
   "metadata": {},
   "outputs": [],
   "source": [
    "df_drop = df_drop.drop('mqtt_qos')\n",
    "df_drop = df_drop.drop('mqtt_msg')"
   ]
  },
  {
   "cell_type": "markdown",
   "id": "2e25ef64",
   "metadata": {},
   "source": [
    "Let's check number of classes in the categorcal variables"
   ]
  },
  {
   "cell_type": "code",
   "execution_count": 21,
   "id": "3a7d59c9",
   "metadata": {},
   "outputs": [
    {
     "name": "stdout",
     "output_type": "stream",
     "text": [
      "+----------+------+\n",
      "| tcp_flags| count|\n",
      "+----------+------+\n",
      "|0x00000004|  1592|\n",
      "|0x00000010|134547|\n",
      "|0x00000019|   738|\n",
      "|0x00000002|  3372|\n",
      "|0x00000012|  3372|\n",
      "|0x00000014|    41|\n",
      "|0x00000018|183076|\n",
      "|0x00000011|  4198|\n",
      "+----------+------+\n",
      "\n"
     ]
    }
   ],
   "source": [
    "df_drop.groupBy('tcp_flags').count().show()"
   ]
  },
  {
   "cell_type": "code",
   "execution_count": 22,
   "id": "3132239a",
   "metadata": {},
   "outputs": [
    {
     "name": "stdout",
     "output_type": "stream",
     "text": [
      "+-------------+------+\n",
      "|mqtt_hdrflags| count|\n",
      "+-------------+------+\n",
      "|   0x00000031|   121|\n",
      "|   0x00000090|    82|\n",
      "|            0|124431|\n",
      "|   0x000000d0|  1427|\n",
      "|   0x00000010|  3282|\n",
      "|   0x00000082|    82|\n",
      "|   0x00000030|103457|\n",
      "|   0x00000040| 38885|\n",
      "|   0x000000e0|    18|\n",
      "|   0x00000020|  3282|\n",
      "|   0x0000003a| 18707|\n",
      "|   0x00000032| 35724|\n",
      "|   0x00000050|    39|\n",
      "|   0x000000c0|  1399|\n",
      "+-------------+------+\n",
      "\n"
     ]
    }
   ],
   "source": [
    "df_drop.groupBy('mqtt_hdrflags').count().show()"
   ]
  },
  {
   "cell_type": "code",
   "execution_count": 23,
   "id": "1802b585",
   "metadata": {},
   "outputs": [
    {
     "name": "stdout",
     "output_type": "stream",
     "text": [
      "+------------+------+\n",
      "|mqtt_msgtype| count|\n",
      "+------------+------+\n",
      "|         8.0|    82|\n",
      "|         0.0|124431|\n",
      "|         1.0|  3282|\n",
      "|         4.0| 38885|\n",
      "|        14.0|    18|\n",
      "|         3.0|158009|\n",
      "|         2.0|  3282|\n",
      "|        13.0|  1427|\n",
      "|         5.0|    39|\n",
      "|         9.0|    82|\n",
      "|        12.0|  1399|\n",
      "+------------+------+\n",
      "\n"
     ]
    }
   ],
   "source": [
    "df_drop.groupBy('mqtt_msgtype').count().show()"
   ]
  },
  {
   "cell_type": "code",
   "execution_count": 24,
   "id": "78e25162",
   "metadata": {},
   "outputs": [
    {
     "name": "stdout",
     "output_type": "stream",
     "text": [
      "+----------+-----+\n",
      "|mqtt_msgid|count|\n",
      "+----------+-----+\n",
      "|    6067.0|   10|\n",
      "|    5983.0|   10|\n",
      "|    7554.0|   17|\n",
      "|    9923.0|    7|\n",
      "|    6433.0|   14|\n",
      "|    8649.0|    7|\n",
      "|    6653.0|    9|\n",
      "|    9753.0|   10|\n",
      "|    4142.0|    8|\n",
      "|    7487.0|   10|\n",
      "|    3901.0|    5|\n",
      "|    4800.0|   12|\n",
      "|    7782.0|   11|\n",
      "|    6454.0|   15|\n",
      "|    7313.0|   10|\n",
      "|    5858.0|   10|\n",
      "|    8779.0|   11|\n",
      "|    7171.0|   13|\n",
      "|    5776.0|   13|\n",
      "|    6765.0|   10|\n",
      "+----------+-----+\n",
      "only showing top 20 rows\n",
      "\n"
     ]
    }
   ],
   "source": [
    "df_drop.groupBy('mqtt_msgid').count().show()"
   ]
  },
  {
   "cell_type": "code",
   "execution_count": 23,
   "id": "89b663bd",
   "metadata": {},
   "outputs": [
    {
     "name": "stdout",
     "output_type": "stream",
     "text": [
      "+----------+------+\n",
      "|    target| count|\n",
      "+----------+------+\n",
      "|   slowite|  9202|\n",
      "|bruteforce| 14501|\n",
      "|     flood|   613|\n",
      "| malformed| 10924|\n",
      "|       dos|130233|\n",
      "|legitimate|165463|\n",
      "+----------+------+\n",
      "\n"
     ]
    }
   ],
   "source": [
    "df_drop.groupBy('target').count().show()"
   ]
  },
  {
   "cell_type": "markdown",
   "id": "8cbba892",
   "metadata": {},
   "source": [
    "TCP_FLAGS, MQTT_MSGTYPE and MQTT_HDRFLAGS have reasonable number of classes hence can be one hot encoded. MQTT_MSGID has a large number of classes hence I will use it as a continuous variable."
   ]
  },
  {
   "cell_type": "code",
   "execution_count": 12,
   "id": "7ef65c72",
   "metadata": {},
   "outputs": [],
   "source": [
    "continuous_cols = ['tcp_time_delta', 'tcp_len', 'mqtt_len', 'mqtt_msgid',]"
   ]
  },
  {
   "cell_type": "code",
   "execution_count": 13,
   "id": "9360aea0",
   "metadata": {},
   "outputs": [],
   "source": [
    "nominal_cols = ['mqtt_hdrflags', 'tcp_flags', 'mqtt_msgtype']"
   ]
  },
  {
   "cell_type": "markdown",
   "id": "c358e099",
   "metadata": {},
   "source": [
    "Creating train and test dataframes "
   ]
  },
  {
   "cell_type": "code",
   "execution_count": 14,
   "id": "ace8219b",
   "metadata": {},
   "outputs": [],
   "source": [
    "df_train = df_drop.select('*').where(df_drop.train_flag == 1)\n",
    "df_test = df_drop.select('*').where(df_drop.train_flag == 0)\n",
    "df_train = df_train.drop('train_flag')\n",
    "df_test = df_test.drop('train_flag')"
   ]
  },
  {
   "cell_type": "code",
   "execution_count": 15,
   "id": "82839f2d",
   "metadata": {},
   "outputs": [],
   "source": [
    "#pipeline for pre-processing\n",
    "\n",
    "def class_to_label(name):\n",
    "        if name == 'legitimate':\n",
    "            return 0\n",
    "        elif name == 'dos':\n",
    "            return 1\n",
    "        elif name == 'bruteforce':\n",
    "            return 2\n",
    "        elif name == 'malformed':\n",
    "            return 3\n",
    "        elif name == 'slowite':\n",
    "            return 4\n",
    "        elif name == 'flood':\n",
    "            return 5\n",
    "\n",
    "class OutcomeCreater(Transformer): # this defines a transformer that creates the outcome column\n",
    "    \n",
    "    def __init__(self):\n",
    "        super().__init__()\n",
    "\n",
    "    def _transform(self, dataset):\n",
    "        label_to_binary = udf(lambda name: class_to_label(name))\n",
    "        output_df = dataset.withColumn('outcome', label_to_binary(col('target'))).drop(\"target\")  \n",
    "        output_df = output_df.withColumn('outcome', col('outcome').cast(DoubleType()))\n",
    "        return output_df\n",
    "\n",
    "class FeatureTypeCaster(Transformer): # this transformer will cast the columns as appropriate types  \n",
    "    def __init__(self):\n",
    "        super().__init__()\n",
    "\n",
    "    def _transform(self, dataset):\n",
    "        output_df = dataset\n",
    "        for col_name in continuous_cols:\n",
    "            output_df = output_df.withColumn(col_name,col(col_name).cast(DoubleType()))\n",
    "        return output_df\n",
    "\n",
    "class ColumnDropper(Transformer): # this transformer drops unnecessary columns\n",
    "    def __init__(self, columns_to_drop = None):\n",
    "        super().__init__()\n",
    "        self.columns_to_drop=columns_to_drop\n",
    "    def _transform(self, dataset):\n",
    "        output_df = dataset\n",
    "        for col_name in self.columns_to_drop:\n",
    "            output_df = output_df.drop(col_name)\n",
    "        return output_df\n",
    "    \n",
    "def get_preprocess_pipeline():\n",
    "    # Stage where columns are casted as appropriate types\n",
    "    stage_typecaster = FeatureTypeCaster()\n",
    "\n",
    "    # Stage where nominal columns are transformed to index columns using StringIndexer\n",
    "    nominal_id_cols = [x+\"_index\" for x in nominal_cols]\n",
    "    nominal_onehot_cols = [x+\"_encoded\" for x in nominal_cols]\n",
    "    stage_nominal_indexer = StringIndexer(inputCols = nominal_cols, outputCols = nominal_id_cols )\n",
    "\n",
    "    # Stage where the index columns are further transformed using OneHotEncoder\n",
    "    stage_nominal_onehot_encoder = OneHotEncoder(inputCols=nominal_id_cols, outputCols=nominal_onehot_cols)\n",
    "\n",
    "    # Stage where all relevant features are assembled into a vector (and dropping a few)\n",
    "    feature_cols = continuous_cols+nominal_onehot_cols\n",
    "    stage_vector_assembler = VectorAssembler(inputCols=feature_cols, outputCol=\"vectorized_features\")\n",
    "\n",
    "    # Stage where we scale the columns\n",
    "    stage_scaler = StandardScaler(inputCol= 'vectorized_features', outputCol= 'features')\n",
    "    \n",
    "\n",
    "    # Stage for creating the outcome column representing whether there is attack \n",
    "    stage_outcome = OutcomeCreater()\n",
    "\n",
    "    # Removing all unnecessary columbs, only keeping the 'features' and 'outcome' columns\n",
    "    stage_column_dropper = ColumnDropper(columns_to_drop = nominal_cols+nominal_id_cols+\n",
    "        nominal_onehot_cols + continuous_cols + ['vectorized_features'])\n",
    "    # Connect the columns into a pipeline\n",
    "    pipeline = Pipeline(stages=[stage_typecaster,stage_nominal_indexer,stage_nominal_onehot_encoder,\n",
    "         stage_vector_assembler,stage_scaler,stage_outcome,stage_column_dropper])\n",
    "    \n",
    "    return pipeline "
   ]
  },
  {
   "cell_type": "code",
   "execution_count": 16,
   "id": "1973d667",
   "metadata": {},
   "outputs": [
    {
     "name": "stderr",
     "output_type": "stream",
     "text": [
      "                                                                                \r"
     ]
    }
   ],
   "source": [
    "preprocess_pipeline = get_preprocess_pipeline()\n",
    "preprocess_pipeline_model = preprocess_pipeline.fit(df_train) #fitting the pipeline"
   ]
  },
  {
   "cell_type": "code",
   "execution_count": 17,
   "id": "8128b746",
   "metadata": {},
   "outputs": [],
   "source": [
    "df_train_vec = preprocess_pipeline_model.transform(df_train)\n",
    "df_test_vec = preprocess_pipeline_model.transform(df_test)"
   ]
  },
  {
   "cell_type": "code",
   "execution_count": 26,
   "id": "a42abdd6",
   "metadata": {},
   "outputs": [
    {
     "name": "stdout",
     "output_type": "stream",
     "text": [
      "root\n",
      " |-- features: vector (nullable = true)\n",
      " |-- outcome: double (nullable = true)\n",
      "\n"
     ]
    },
    {
     "name": "stderr",
     "output_type": "stream",
     "text": [
      "[Stage 29:>                                                         (0 + 1) / 1]\r"
     ]
    },
    {
     "name": "stdout",
     "output_type": "stream",
     "text": [
      "-RECORD 0------------------------\n",
      " features | (34,[0,1,2,5,17,2... \n",
      " outcome  | 0.0                  \n",
      "only showing top 1 row\n",
      "\n"
     ]
    },
    {
     "name": "stderr",
     "output_type": "stream",
     "text": [
      "                                                                                \r"
     ]
    }
   ],
   "source": [
    "df_train_vec.printSchema()\n",
    "df_train_vec.show(1, vertical = True)"
   ]
  },
  {
   "cell_type": "markdown",
   "id": "c421a306",
   "metadata": {},
   "source": [
    "## Machine Learning\n",
    "\n",
    "### Spark Models\n",
    "\n",
    "Since this is a multiclass classification problem, I used multinomial Logistic regression and random forest classifier in Spark. I wanted to compare a probabilistic model with a decision tree model. "
   ]
  },
  {
   "cell_type": "code",
   "execution_count": 18,
   "id": "395933fb",
   "metadata": {},
   "outputs": [],
   "source": [
    "from pyspark.ml.classification import LogisticRegression\n",
    "from pyspark.ml.classification import RandomForestClassifier\n",
    "\n",
    "lr = LogisticRegression(featuresCol = 'features', labelCol = 'outcome')\n",
    "rf = RandomForestClassifier(featuresCol = 'features', labelCol = 'outcome')"
   ]
  },
  {
   "cell_type": "code",
   "execution_count": 19,
   "id": "a12169e7",
   "metadata": {},
   "outputs": [],
   "source": [
    "from pyspark.ml.tuning import ParamGridBuilder, CrossValidator\n",
    "from pyspark.ml.evaluation import MulticlassClassificationEvaluator\n",
    "\n",
    "evaluator = MulticlassClassificationEvaluator(predictionCol='prediction', \n",
    "    labelCol='outcome', metricName='accuracy')\n",
    "\n",
    "lr_paramGrid = (ParamGridBuilder()\n",
    "             .addGrid(lr.regParam, [0])\n",
    "             .build())\n",
    "\n",
    "rf_paramGrid = (ParamGridBuilder()\n",
    "             .addGrid(rf.maxDepth, [5])\n",
    "             .build())\n",
    "\n",
    "lr_cv_base = CrossValidator(estimator=lr, estimatorParamMaps=lr_paramGrid, evaluator=evaluator, numFolds=5)\n",
    "rf_cv_base = CrossValidator(estimator=rf, estimatorParamMaps=rf_paramGrid, evaluator=evaluator, numFolds=5)"
   ]
  },
  {
   "cell_type": "code",
   "execution_count": 20,
   "id": "6fb70250",
   "metadata": {},
   "outputs": [
    {
     "name": "stderr",
     "output_type": "stream",
     "text": [
      "                                                                                \r"
     ]
    }
   ],
   "source": [
    "lrModel = lr_cv_base.fit(df_train_vec)\n",
    "rfModel = rf_cv_base.fit(df_train_vec)"
   ]
  },
  {
   "cell_type": "code",
   "execution_count": 21,
   "id": "aa49610f",
   "metadata": {},
   "outputs": [],
   "source": [
    "predictions_lr_train = lrModel.transform(df_train_vec)\n",
    "predictions_lr = lrModel.transform(df_test_vec)"
   ]
  },
  {
   "cell_type": "code",
   "execution_count": 25,
   "id": "01ecd071",
   "metadata": {},
   "outputs": [
    {
     "name": "stderr",
     "output_type": "stream",
     "text": [
      "[Stage 796:>                                                        (0 + 1) / 1]\r"
     ]
    },
    {
     "name": "stdout",
     "output_type": "stream",
     "text": [
      "Train Accuracy for Logistic Regression : 82.15%\n",
      "Test Accuracy for Logistic Regression: 82.04%\n"
     ]
    },
    {
     "name": "stderr",
     "output_type": "stream",
     "text": [
      "                                                                                \r"
     ]
    }
   ],
   "source": [
    "accuracy_train_lr = (predictions_lr_train.filter(predictions_lr_train.outcome == predictions_lr_train.prediction)\n",
    "    .count() / float(predictions_lr_train.count()))\n",
    "\n",
    "accuracy_test_lr = (predictions_lr.filter(predictions_lr.outcome == predictions_lr.prediction)\n",
    "    .count() / float(predictions_lr.count()))\n",
    "print(f\"Train Accuracy for Logistic Regression : {np.round(accuracy_train_lr*100,2)}%\")\n",
    "print(f\"Test Accuracy for Logistic Regression: {np.round(accuracy_test_lr*100,2)}%\")"
   ]
  },
  {
   "cell_type": "code",
   "execution_count": 26,
   "id": "9182a7c9",
   "metadata": {},
   "outputs": [
    {
     "name": "stderr",
     "output_type": "stream",
     "text": [
      "[Stage 808:>                                                        (0 + 1) / 1]\r"
     ]
    },
    {
     "name": "stdout",
     "output_type": "stream",
     "text": [
      "Train Accuracy for Random Forest: 84.61%\n",
      "Test Accuracy for Random Forest: 85.8%\n"
     ]
    },
    {
     "name": "stderr",
     "output_type": "stream",
     "text": [
      "                                                                                \r"
     ]
    }
   ],
   "source": [
    "predictions_rf_train = rfModel.transform(df_train_vec)\n",
    "predictions_rf = rfModel.transform(df_test_vec)\n",
    "accuracy_train_rf = (predictions_rf_train.filter(predictions_rf_train.outcome == predictions_rf_train.prediction)\n",
    "    .count() / float(predictions_rf_train.count()))\n",
    "\n",
    "accuracy_test_rf = (predictions_rf.filter(predictions_rf.outcome == predictions_rf.prediction)\n",
    "    .count() / float(predictions_rf.count()))\n",
    "print(f\"Train Accuracy for Random Forest: {np.round(accuracy_train_rf*100,2)}%\")\n",
    "print(f\"Test Accuracy for Random Forest: {np.round(accuracy_test_rf*100,2)}%\")"
   ]
  },
  {
   "cell_type": "code",
   "execution_count": 27,
   "id": "cbb42855",
   "metadata": {},
   "outputs": [
    {
     "name": "stderr",
     "output_type": "stream",
     "text": [
      "                                                                                \r"
     ]
    },
    {
     "name": "stdout",
     "output_type": "stream",
     "text": [
      "Confusion matrix, without normalization\n",
      "[[49637     0     0     0     2     0]\n",
      " [11169 27866    29     0    13     0]\n",
      " [ 1706     0  2629    15     1     0]\n",
      " [ 1096    12  1308   837    25     0]\n",
      " [ 1316     0  1033     8   404     0]\n",
      " [   93     0     2     4     0    85]]\n"
     ]
    },
    {
     "data": {
      "image/png": "[encoded data removed]",
      "text/plain": [
       "<Figure size 640x480 with 2 Axes>"
      ]
     },
     "metadata": {},
     "output_type": "display_data"
    }
   ],
   "source": [
    "from sklearn.metrics import confusion_matrix\n",
    "\n",
    "import itertools\n",
    "def plot_confusion_matrix(cm, classes,\n",
    "                          normalize=False,\n",
    "                          title='Confusion matrix',\n",
    "                          cmap=plt.cm.Blues):\n",
    "    \"\"\"\n",
    "    This function prints and plots the confusion matrix.\n",
    "    Normalization can be applied by setting `normalize=True`.\n",
    "    \"\"\"\n",
    "    if normalize:\n",
    "        cm = cm.astype('float') / cm.sum(axis=1)[:, np.newaxis]\n",
    "        print(\"Normalized confusion matrix\")\n",
    "    else:\n",
    "        print('Confusion matrix, without normalization')\n",
    "\n",
    "    print(cm)\n",
    "\n",
    "    plt.imshow(cm, interpolation='nearest', cmap=cmap)\n",
    "    plt.title(title)\n",
    "    plt.colorbar()\n",
    "    tick_marks = np.arange(len(classes))\n",
    "    plt.xticks(tick_marks, classes, rotation=45)\n",
    "    plt.yticks(tick_marks, classes)\n",
    "\n",
    "    fmt = '.2f' if normalize else 'd'\n",
    "    thresh = cm.max() / 2.\n",
    "    for i, j in itertools.product(range(cm.shape[0]), range(cm.shape[1])):\n",
    "        plt.text(j, i, format(cm[i, j], fmt),\n",
    "                 horizontalalignment=\"center\",\n",
    "                 color=\"white\" if cm[i, j] > thresh else \"black\")\n",
    "\n",
    "    plt.tight_layout()\n",
    "    plt.ylabel('True label')\n",
    "    plt.xlabel('Predicted label')\n",
    "\n",
    "class_names=[0.0,1.0,2.0,3.0,4.0, 5.0]\n",
    "class_names_str=[\"legitimate\",\"dos\",'bruteforce','malformed','slowite', 'flood']\n",
    "\n",
    "outcome_true = predictions_lr.select(\"outcome\")\n",
    "outcome_true = outcome_true.toPandas()\n",
    "\n",
    "pred = predictions_lr.select(\"prediction\")\n",
    "pred = pred.toPandas()\n",
    "\n",
    "cnf_matrix = confusion_matrix(outcome_true, pred,labels=class_names)\n",
    "#cnf_matrix\n",
    "plt.figure()\n",
    "plot_confusion_matrix(cnf_matrix, classes=class_names_str,\n",
    "                      title='Confusion matrix for Logistic Regression')\n",
    "plt.show()"
   ]
  },
  {
   "cell_type": "code",
   "execution_count": 28,
   "id": "a9172a25",
   "metadata": {},
   "outputs": [
    {
     "name": "stderr",
     "output_type": "stream",
     "text": [
      "                                                                                \r"
     ]
    },
    {
     "name": "stdout",
     "output_type": "stream",
     "text": [
      "Confusion matrix, without normalization\n",
      "[[49625    14     0     0     0     0]\n",
      " [ 6417 32636    24     0     0     0]\n",
      " [ 2622   140  1585     4     0     0]\n",
      " [ 2031    38   647   562     0     0]\n",
      " [ 1551     0   424     3   783     0]\n",
      " [  182     0     2     0     0     0]]\n"
     ]
    },
    {
     "data": {
      "image/png": "[encoded data removed]",
      "text/plain": [
       "<Figure size 640x480 with 2 Axes>"
      ]
     },
     "metadata": {},
     "output_type": "display_data"
    }
   ],
   "source": [
    "outcome_true = predictions_rf.select(\"outcome\")\n",
    "outcome_true = outcome_true.toPandas()\n",
    "\n",
    "pred = predictions_rf.select(\"prediction\")\n",
    "pred = pred.toPandas()\n",
    "\n",
    "cnf_matrix = confusion_matrix(outcome_true, pred,labels=class_names)\n",
    "#cnf_matrix\n",
    "plt.figure()\n",
    "plot_confusion_matrix(cnf_matrix, classes=class_names_str,\n",
    "                      title='Confusion matrix for Random Forest')\n",
    "plt.show()"
   ]
  },
  {
   "cell_type": "markdown",
   "id": "1e873107",
   "metadata": {},
   "source": [
    "### Hyperparameter tuning for the two Spark models\n",
    "\n",
    "Chosen hyperparamters for Logistic Regression: Regularization, Maximum iterations and Thresholds\n",
    "\n",
    "Chosen hyperparamters for Random Forest: Maximum depth and Maximum Bins"
   ]
  },
  {
   "cell_type": "code",
   "execution_count": 29,
   "id": "d5a6f61d",
   "metadata": {},
   "outputs": [],
   "source": [
    "lr_paramGrid = (ParamGridBuilder()\n",
    "             .addGrid(lr.regParam, [0.01, 0.5, 1, 2.0])\n",
    "             .addGrid(lr.maxIter, [100, 500])\n",
    "             .addGrid(lr.thresholds, [[1.5, 0.9, 1, 1, 1, 1], [1,1,1,1,1,1]])   \n",
    "             .build())\n",
    "\n",
    "rf_paramGrid = (ParamGridBuilder()\n",
    "             .addGrid(rf.maxDepth, [5, 10, 20, 30])\n",
    "             .addGrid(rf.maxBins, [32, 64])\n",
    "             .build())\n",
    "\n",
    "evaluator = MulticlassClassificationEvaluator(predictionCol='prediction', \n",
    "    labelCol='outcome', metricName='accuracy')\n",
    "\n",
    "lr_cv = CrossValidator(estimator=lr, estimatorParamMaps=lr_paramGrid, \n",
    "                    evaluator=evaluator, numFolds=5)\n",
    "\n",
    "rf_cv = CrossValidator(estimator=rf, estimatorParamMaps=rf_paramGrid, \n",
    "                    evaluator=evaluator, numFolds=5)"
   ]
  },
  {
   "cell_type": "code",
   "execution_count": 30,
   "id": "5af4afd6",
   "metadata": {},
   "outputs": [
    {
     "name": "stderr",
     "output_type": "stream",
     "text": [
      "                                                                                \r"
     ]
    }
   ],
   "source": [
    "lr_cv_model = lr_cv.fit(df_train_vec)\n",
    "rf_cv_model = rf_cv.fit(df_train_vec)\n",
    "lr_cv_prediction_test = lr_cv_model.transform(df_test_vec)\n",
    "rf_cv_prediction_test = rf_cv_model.transform(df_test_vec)"
   ]
  },
  {
   "cell_type": "code",
   "execution_count": 31,
   "id": "9ad2abcd",
   "metadata": {},
   "outputs": [
    {
     "name": "stderr",
     "output_type": "stream",
     "text": [
      "[Stage 6715:>                                                       (0 + 1) / 1]\r"
     ]
    },
    {
     "name": "stdout",
     "output_type": "stream",
     "text": [
      "Accuracy on the Test set:\n",
      "Accuracy for Logistic Regression after Cross-Validation:81.59\n",
      "Accuracy for Random Forest after Cross-Validation:85.2\n"
     ]
    },
    {
     "name": "stderr",
     "output_type": "stream",
     "text": [
      "                                                                                \r"
     ]
    }
   ],
   "source": [
    "accuracy_lr_cv = (lr_cv_prediction_test.filter(lr_cv_prediction_test.outcome == lr_cv_prediction_test.prediction)\n",
    "    .count() / float(lr_cv_prediction_test.count()))\n",
    "\n",
    "accuracy_rf_cv = (rf_cv_prediction_test.filter(rf_cv_prediction_test.outcome == rf_cv_prediction_test.prediction)\n",
    "    .count() / float(rf_cv_prediction_test.count()))\n",
    "print('Accuracy on the Test set:')\n",
    "print('Accuracy for Logistic Regression after Cross-Validation:' + str(np.round(accuracy_lr_cv*100,2)))\n",
    "print('Accuracy for Random Forest after Cross-Validation:' + str(np.round(accuracy_rf_cv*100,2)))"
   ]
  },
  {
   "cell_type": "markdown",
   "id": "3d92d86d",
   "metadata": {},
   "source": [
    "### PyTorch Models"
   ]
  },
  {
   "cell_type": "code",
   "execution_count": 32,
   "id": "00836d2e",
   "metadata": {},
   "outputs": [
    {
     "name": "stderr",
     "output_type": "stream",
     "text": [
      "                                                                                \r"
     ]
    }
   ],
   "source": [
    "df_train_pd = df_train_vec.toPandas()\n",
    "df_test_pd = df_test_vec.toPandas()"
   ]
  },
  {
   "cell_type": "code",
   "execution_count": 35,
   "id": "76ba39d9",
   "metadata": {},
   "outputs": [],
   "source": [
    "x_train = torch.from_numpy(np.array(df_train_pd['features'].values.tolist(), np.float32))\n",
    "y_train = torch.from_numpy(np.array(df_train_pd['outcome'].values.tolist(), np.int64))\n",
    "x_val = torch.from_numpy(np.array(df_test_pd['features'].values.tolist(), np.float32))\n",
    "y_val = torch.from_numpy(np.array(df_test_pd['outcome'].values.tolist(), np.int64))"
   ]
  },
  {
   "cell_type": "code",
   "execution_count": 36,
   "id": "90937f5f",
   "metadata": {},
   "outputs": [],
   "source": [
    "class myDataset(Dataset):\n",
    "    \n",
    "    def __init__(self, x, y):\n",
    "        self.x = x\n",
    "        self.y = y\n",
    "        \n",
    "    def __len__(self):\n",
    "        return self.x.shape[0]\n",
    "    \n",
    "    def __getitem__(self, idx):\n",
    "        return (self.x[idx], self.y[idx])\n",
    "    \n",
    "train_dataset = myDataset(x_train, y_train)\n",
    "val_dataset = myDataset(x_val, y_val)"
   ]
  },
  {
   "cell_type": "code",
   "execution_count": 37,
   "id": "1620a687",
   "metadata": {},
   "outputs": [],
   "source": [
    "def loader(batch_size = 64):\n",
    "    batch_size = batch_size\n",
    "    train_loader = DataLoader(train_dataset, batch_size = batch_size, shuffle = True)\n",
    "    val_loader = DataLoader(val_dataset, batch_size = batch_size, shuffle = True)\n",
    "    return train_loader, val_loader"
   ]
  },
  {
   "cell_type": "markdown",
   "id": "161d7831",
   "metadata": {},
   "source": [
    "I created two neural networks, one with 1 hidden layer and other with 3 hidden layers to compare the effect of depth\n",
    "\n",
    "### Model 1"
   ]
  },
  {
   "cell_type": "code",
   "execution_count": 38,
   "id": "412e39c2",
   "metadata": {},
   "outputs": [
    {
     "name": "stdout",
     "output_type": "stream",
     "text": [
      "Net(\n",
      "  (sequential): Sequential(\n",
      "    (0): Linear(in_features=34, out_features=16, bias=True)\n",
      "    (1): ReLU()\n",
      "    (2): Linear(in_features=16, out_features=6, bias=True)\n",
      "  )\n",
      ")\n"
     ]
    }
   ],
   "source": [
    "class Net(nn.Module):\n",
    "    def __init__(self):\n",
    "        super().__init__()\n",
    "        self.sequential = nn.Sequential(\n",
    "            nn.Linear(34, 16),\n",
    "            nn.ReLU(),\n",
    "            nn.Linear(16, 6),\n",
    "            )\n",
    "    def forward(self, x):\n",
    "        y = self.sequential(x)\n",
    "        return y\n",
    "    \n",
    "model = Net()\n",
    "print(model)"
   ]
  },
  {
   "cell_type": "code",
   "execution_count": 39,
   "id": "33c71ea2",
   "metadata": {},
   "outputs": [],
   "source": [
    "# creating some functions for plotting\n",
    "\n",
    "def plot_loss(train_loss, val_loss):\n",
    "    plt.plot(train_loss,label=\"Training\")\n",
    "    plt.plot(val_loss,label=\"Validation\",linewidth=1)\n",
    "    plt.legend()\n",
    "    plt.xlabel(\"Epoch\")\n",
    "    plt.ylabel(\"Loss\")\n",
    "    plt.title('Loss vs Epoch')\n",
    "    plt.show()\n",
    "    \n",
    "    \n",
    "def plot_accuracies(train_accuracies, val_accuracies):\n",
    "    plt.plot(train_accuracies,label=\"Training\")\n",
    "    plt.plot(val_accuracies,label=\"Validation\",linewidth=1)\n",
    "    plt.legend()\n",
    "    plt.xlabel(\"Epoch\")\n",
    "    plt.ylabel(\"Accuracy\")\n",
    "    plt.title('Accuracy vs Epoch')\n",
    "    plt.show()\n",
    "    \n",
    "# the training function\n",
    "\n",
    "def train(model, train_loader, val_loader, lr = 0.01, epochs = 1000, gamma = 1, create_plot = True, use_GPU = False, verbose = True):\n",
    "    # YOUR CODE GOES HERE\n",
    "    \n",
    "    if use_GPU:\n",
    "        device = torch.device('cuda:0')\n",
    "        if verbose: print('Using GPU ' + str(torch.cuda.get_device_properties(0).name) +'...')\n",
    "        \n",
    "    else:\n",
    "        device = torch.device('cpu')\n",
    "        if verbose: print('Using CPU...')\n",
    "        \n",
    "    model = model.to(device = device)\n",
    "        \n",
    "        \n",
    "        \n",
    "    \n",
    "    lossfun = nn.CrossEntropyLoss()\n",
    "    optimizer = torch.optim.Adam(model.parameters(), lr = lr)\n",
    "    scheduler = torch.optim.lr_scheduler.ExponentialLR(optimizer, gamma = gamma)\n",
    "    \n",
    "    train_losses = []\n",
    "    val_losses = []\n",
    "    train_losses_iter = []\n",
    "    val_losses_iter = []\n",
    "    train_accuracies = []\n",
    "    val_accuracies = []\n",
    "    current_best_accuracy = 0\n",
    "    \n",
    "    for epoch in range(epochs):\n",
    "        start_time = time()\n",
    "        batch_loss = []\n",
    "        batch_accuracy = []\n",
    "        model.train()\n",
    "        \n",
    "        for x_batch, y_batch in train_loader:\n",
    "            \n",
    "            x_batch = x_batch.to(device)\n",
    "            y_batch = y_batch.to(device)\n",
    "\n",
    "            preds_score = model(x_batch)\n",
    "            loss_train = lossfun(preds_score, y_batch)\n",
    "            train_losses_iter.append(loss_train.item())\n",
    "    \n",
    "            optimizer.zero_grad()\n",
    "            loss_train.backward()\n",
    "            optimizer.step()\n",
    "            batch_loss.append(loss_train.item())\n",
    "            \n",
    "            preds_label = torch.argmax(preds_score.detach(), dim = 1)\n",
    "            batch_accuracy.append(torch.sum(preds_label == y_batch).item()/x_batch.shape[0])\n",
    "\n",
    "            \n",
    "            \n",
    "        \n",
    "        model.eval()\n",
    "        val_batch_loss = []\n",
    "        val_batch_accuracy = []\n",
    "        \n",
    "        for x_batch, y_batch in val_loader:\n",
    "            \n",
    "            x_batch = x_batch.to(device)\n",
    "            y_batch = y_batch.to(device)\n",
    "                \n",
    "            preds_val_score = model(x_batch)\n",
    "            loss_val = lossfun(preds_val_score, y_batch)\n",
    "            val_losses_iter.append(loss_val.item())\n",
    "            val_batch_loss.append(loss_val.item())\n",
    "            \n",
    "            preds_val_label = torch.argmax(preds_val_score.detach(), dim = 1)\n",
    "            val_batch_accuracy.append(torch.sum(preds_val_label == y_batch).item()/x_batch.shape[0])\n",
    "            \n",
    "            \n",
    "        train_losses.append(np.mean(np.array(batch_loss)))\n",
    "        train_accuracies.append(np.mean(np.array(batch_accuracy)))\n",
    "        val_losses.append(np.mean(np.array(val_batch_loss)))\n",
    "        val_accuracies.append(np.mean(np.array(val_batch_accuracy)))\n",
    "        \n",
    "        scheduler.step()\n",
    "        \n",
    "        end_time = time()\n",
    "        if verbose: print(f\"Epoch {epoch + 1} of {epochs}: Train Loss = {train_losses[-1]} Validation Loss = {val_losses[-1]}\")\n",
    "        if verbose: print(f\"Train Accuracy = {np.round(train_accuracies[-1] * 100, 2)} Validation Accuracy ={np.round(val_accuracies[-1] * 100, 2)}\")\n",
    "        if use_GPU:\n",
    "            if verbose: print('Time taken on GPU: ' + str(end_time - start_time))\n",
    "        else:\n",
    "            if verbose: print('Time taken on CPU: ' + str(end_time - start_time))\n",
    "            \n",
    "        \n",
    "        if val_accuracies[-1] > current_best_accuracy:\n",
    "            if verbose: print('Current epoch is best so far, Saving model...')\n",
    "            torch.save(model.state_dict(), 'current best model')\n",
    "            current_best_accuracy = val_accuracies[-1]\n",
    "        \n",
    "    \n",
    "    if create_plot:\n",
    "        plot_loss(train_losses, val_losses)\n",
    "        plot_accuracies(train_accuracies, val_accuracies)\n",
    "\n",
    "    return current_best_accuracy"
   ]
  },
  {
   "cell_type": "code",
   "execution_count": 40,
   "id": "c575ed31",
   "metadata": {},
   "outputs": [],
   "source": [
    "train_loader, val_loader = loader()"
   ]
  },
  {
   "cell_type": "code",
   "execution_count": 41,
   "id": "d83c6773",
   "metadata": {},
   "outputs": [
    {
     "name": "stdout",
     "output_type": "stream",
     "text": [
      "Using CPU...\n",
      "Epoch 1 of 20: Train Loss = 0.4737331922088868 Validation Loss = 0.4421613692526811\n",
      "Train Accuracy = 81.17 Validation Accuracy =81.71\n",
      "Time taken on CPU: 8.896936178207397\n",
      "Current epoch is best so far, Saving model...\n",
      "Epoch 2 of 20: Train Loss = 0.4286628049175713 Validation Loss = 0.4396193970148404\n",
      "Train Accuracy = 82.08 Validation Accuracy =82.03\n",
      "Time taken on CPU: 6.575689792633057\n",
      "Current epoch is best so far, Saving model...\n",
      "Epoch 3 of 20: Train Loss = 0.4263943760146423 Validation Loss = 0.43963166995492486\n",
      "Train Accuracy = 82.12 Validation Accuracy =81.66\n",
      "Time taken on CPU: 6.592949628829956\n",
      "Epoch 4 of 20: Train Loss = 0.42521981100104134 Validation Loss = 0.4384812541286816\n",
      "Train Accuracy = 82.15 Validation Accuracy =82.07\n",
      "Time taken on CPU: 6.572659969329834\n",
      "Current epoch is best so far, Saving model...\n",
      "Epoch 5 of 20: Train Loss = 0.42404872714155945 Validation Loss = 0.4381055780158369\n",
      "Train Accuracy = 82.21 Validation Accuracy =81.76\n",
      "Time taken on CPU: 6.569138288497925\n",
      "Epoch 6 of 20: Train Loss = 0.4229935850021918 Validation Loss = 0.4396473094148888\n",
      "Train Accuracy = 82.32 Validation Accuracy =81.98\n",
      "Time taken on CPU: 6.571000099182129\n",
      "Epoch 7 of 20: Train Loss = 0.42211057850010486 Validation Loss = 0.436829111778859\n",
      "Train Accuracy = 82.4 Validation Accuracy =82.29\n",
      "Time taken on CPU: 6.602467775344849\n",
      "Current epoch is best so far, Saving model...\n",
      "Epoch 8 of 20: Train Loss = 0.421148122604216 Validation Loss = 0.4366159077407312\n",
      "Train Accuracy = 82.41 Validation Accuracy =82.31\n",
      "Time taken on CPU: 6.644686222076416\n",
      "Current epoch is best so far, Saving model...\n",
      "Epoch 9 of 20: Train Loss = 0.4202832048522175 Validation Loss = 0.4373794798979286\n",
      "Train Accuracy = 82.45 Validation Accuracy =82.0\n",
      "Time taken on CPU: 6.632498502731323\n",
      "Epoch 10 of 20: Train Loss = 0.41962609761986286 Validation Loss = 0.437743975406455\n",
      "Train Accuracy = 82.47 Validation Accuracy =82.31\n",
      "Time taken on CPU: 6.722656488418579\n",
      "Current epoch is best so far, Saving model...\n",
      "Epoch 11 of 20: Train Loss = 0.41894336199151216 Validation Loss = 0.4363996991311613\n",
      "Train Accuracy = 82.53 Validation Accuracy =82.41\n",
      "Time taken on CPU: 6.652208089828491\n",
      "Current epoch is best so far, Saving model...\n",
      "Epoch 12 of 20: Train Loss = 0.4182222540166167 Validation Loss = 0.43649344374761756\n",
      "Train Accuracy = 82.58 Validation Accuracy =82.72\n",
      "Time taken on CPU: 6.708865642547607\n",
      "Current epoch is best so far, Saving model...\n",
      "Epoch 13 of 20: Train Loss = 0.4176293821562884 Validation Loss = 0.436514883186937\n",
      "Train Accuracy = 82.61 Validation Accuracy =82.41\n",
      "Time taken on CPU: 6.636067628860474\n",
      "Epoch 14 of 20: Train Loss = 0.41705879511836486 Validation Loss = 0.43717527752454133\n",
      "Train Accuracy = 82.63 Validation Accuracy =82.42\n",
      "Time taken on CPU: 6.6795947551727295\n",
      "Epoch 15 of 20: Train Loss = 0.41649381077503633 Validation Loss = 0.43871892740009066\n",
      "Train Accuracy = 82.67 Validation Accuracy =82.11\n",
      "Time taken on CPU: 6.622737646102905\n",
      "Epoch 16 of 20: Train Loss = 0.4159130898010994 Validation Loss = 0.43958729264547225\n",
      "Train Accuracy = 82.64 Validation Accuracy =82.43\n",
      "Time taken on CPU: 6.648299217224121\n",
      "Epoch 17 of 20: Train Loss = 0.415441802664768 Validation Loss = 0.43741829005866933\n",
      "Train Accuracy = 82.65 Validation Accuracy =82.74\n",
      "Time taken on CPU: 6.652123689651489\n",
      "Current epoch is best so far, Saving model...\n",
      "Epoch 18 of 20: Train Loss = 0.4150794713577842 Validation Loss = 0.43829526054221635\n",
      "Train Accuracy = 82.65 Validation Accuracy =82.73\n",
      "Time taken on CPU: 6.64254355430603\n",
      "Epoch 19 of 20: Train Loss = 0.4145264106519644 Validation Loss = 0.44076944348047076\n",
      "Train Accuracy = 82.67 Validation Accuracy =82.72\n",
      "Time taken on CPU: 6.700274705886841\n",
      "Epoch 20 of 20: Train Loss = 0.4142345581224281 Validation Loss = 0.4413588566647977\n",
      "Train Accuracy = 82.64 Validation Accuracy =82.71\n",
      "Time taken on CPU: 6.6923651695251465\n"
     ]
    },
    {
     "data": {
      "image/png": "[encoded data removed]",
      "text/plain": [
       "<Figure size 640x480 with 1 Axes>"
      ]
     },
     "metadata": {},
     "output_type": "display_data"
    },
    {
     "data": {
      "image/png": "[encoded data removed]",
      "text/plain": [
       "<Figure size 640x480 with 1 Axes>"
      ]
     },
     "metadata": {},
     "output_type": "display_data"
    },
    {
     "name": "stdout",
     "output_type": "stream",
     "text": [
      "Final Accuracy: 82.73559860725614%\n"
     ]
    }
   ],
   "source": [
    "accuracy = train(model, train_loader, val_loader, lr = 0.001, epochs = 20, gamma = 1, create_plot = True, verbose = True)\n",
    "print(f'Final Accuracy: {accuracy * 100}%')"
   ]
  },
  {
   "cell_type": "markdown",
   "id": "d9c95002",
   "metadata": {},
   "source": [
    "### Hyperparamter tuning for Model 1\n",
    "\n",
    "I trained the model over different learning rates and batch sizes and stored the accuracies"
   ]
  },
  {
   "cell_type": "code",
   "execution_count": 42,
   "id": "ed6d59f7",
   "metadata": {},
   "outputs": [
    {
     "name": "stdout",
     "output_type": "stream",
     "text": [
      "Training completed for Learning Rate: 0.1, Batch Size: 32\n",
      "Training completed for Learning Rate: 0.1, Batch Size: 64\n",
      "Training completed for Learning Rate: 0.1, Batch Size: 128\n",
      "Training completed for Learning Rate: 0.01, Batch Size: 32\n",
      "Training completed for Learning Rate: 0.01, Batch Size: 64\n",
      "Training completed for Learning Rate: 0.01, Batch Size: 128\n",
      "Training completed for Learning Rate: 0.001, Batch Size: 32\n",
      "Training completed for Learning Rate: 0.001, Batch Size: 64\n",
      "Training completed for Learning Rate: 0.001, Batch Size: 128\n"
     ]
    }
   ],
   "source": [
    "lr_params = [0.1, 0.01, 0.001]\n",
    "batch_sizes = [32, 64, 128]\n",
    "tuning_accs = {}\n",
    "for lr in lr_params:\n",
    "    for batch_size in batch_sizes:\n",
    "        train_loader, val_loader = loader(batch_size=batch_size)\n",
    "        model = Net()\n",
    "        acc = train(model, train_loader, val_loader, lr = lr, epochs = 20, gamma = 0.995, create_plot = False, verbose = False)\n",
    "        tuning_accs[str(lr) + ', ' + str(batch_size)] = acc\n",
    "        print(f'Training completed for Learning Rate: {lr}, Batch Size: {batch_size}')"
   ]
  },
  {
   "cell_type": "code",
   "execution_count": 43,
   "id": "a38f4188",
   "metadata": {},
   "outputs": [
    {
     "data": {
      "text/plain": [
       "{'0.1, 32': 0.811445654329557,\n",
       " '0.1, 64': 0.8061844828013481,\n",
       " '0.1, 128': 0.8157574455899199,\n",
       " '0.01, 32': 0.8234431939314311,\n",
       " '0.01, 64': 0.8234644503370341,\n",
       " '0.01, 128': 0.8271079431557846,\n",
       " '0.001, 32': 0.8268293400927142,\n",
       " '0.001, 64': 0.8273621815523394,\n",
       " '0.001, 128': 0.8271609661368843}"
      ]
     },
     "execution_count": 43,
     "metadata": {},
     "output_type": "execute_result"
    }
   ],
   "source": [
    "tuning_accs"
   ]
  },
  {
   "cell_type": "markdown",
   "id": "87eec351",
   "metadata": {},
   "source": [
    "We can see learning rate of 0.001 with batchsize of 64 has the highest accuracy of 82.73%"
   ]
  },
  {
   "cell_type": "markdown",
   "id": "e2a3c1db",
   "metadata": {},
   "source": [
    "### Training model 2 on tuned hyperparamters and reporting accuracy on the test set"
   ]
  },
  {
   "cell_type": "code",
   "execution_count": 45,
   "id": "7ad9b2a2",
   "metadata": {},
   "outputs": [
    {
     "name": "stdout",
     "output_type": "stream",
     "text": [
      "Using CPU...\n",
      "Epoch 1 of 20: Train Loss = 0.47565573091665025 Validation Loss = 0.4431423436101411\n",
      "Train Accuracy = 80.85 Validation Accuracy =82.02\n",
      "Time taken on CPU: 6.65460205078125\n",
      "Current epoch is best so far, Saving model...\n",
      "Epoch 2 of 20: Train Loss = 0.4287680186001965 Validation Loss = 0.43877728356374907\n",
      "Train Accuracy = 82.08 Validation Accuracy =81.73\n",
      "Time taken on CPU: 6.641726493835449\n",
      "Epoch 3 of 20: Train Loss = 0.42654355692353035 Validation Loss = 0.43678181115345854\n",
      "Train Accuracy = 82.1 Validation Accuracy =81.75\n",
      "Time taken on CPU: 6.643058776855469\n",
      "Epoch 4 of 20: Train Loss = 0.42491046540768435 Validation Loss = 0.4382655494174315\n",
      "Train Accuracy = 82.18 Validation Accuracy =81.75\n",
      "Time taken on CPU: 6.666748523712158\n",
      "Epoch 5 of 20: Train Loss = 0.4236834909293533 Validation Loss = 0.4365755573452748\n",
      "Train Accuracy = 82.22 Validation Accuracy =81.76\n",
      "Time taken on CPU: 6.704542875289917\n",
      "Epoch 6 of 20: Train Loss = 0.4224104699714737 Validation Loss = 0.4351798921689084\n",
      "Train Accuracy = 82.34 Validation Accuracy =82.28\n",
      "Time taken on CPU: 6.6622254848480225\n",
      "Current epoch is best so far, Saving model...\n",
      "Epoch 7 of 20: Train Loss = 0.42111701244560396 Validation Loss = 0.43796691963852374\n",
      "Train Accuracy = 82.44 Validation Accuracy =81.69\n",
      "Time taken on CPU: 6.683760643005371\n",
      "Epoch 8 of 20: Train Loss = 0.42011687856023483 Validation Loss = 0.4378814775323899\n",
      "Train Accuracy = 82.46 Validation Accuracy =82.38\n",
      "Time taken on CPU: 6.641236066818237\n",
      "Current epoch is best so far, Saving model...\n",
      "Epoch 9 of 20: Train Loss = 0.41906708770364687 Validation Loss = 0.4394623297026631\n",
      "Train Accuracy = 82.51 Validation Accuracy =82.01\n",
      "Time taken on CPU: 6.64945650100708\n",
      "Epoch 10 of 20: Train Loss = 0.4183012881619825 Validation Loss = 0.4376103943405846\n",
      "Train Accuracy = 82.57 Validation Accuracy =82.68\n",
      "Time taken on CPU: 6.714913368225098\n",
      "Current epoch is best so far, Saving model...\n",
      "Epoch 11 of 20: Train Loss = 0.4175476917286933 Validation Loss = 0.43577296496128914\n",
      "Train Accuracy = 82.6 Validation Accuracy =82.7\n",
      "Time taken on CPU: 6.699492931365967\n",
      "Current epoch is best so far, Saving model...\n",
      "Epoch 12 of 20: Train Loss = 0.41686451087258136 Validation Loss = 0.43802438339352917\n",
      "Train Accuracy = 82.64 Validation Accuracy =82.33\n",
      "Time taken on CPU: 6.682243824005127\n",
      "Epoch 13 of 20: Train Loss = 0.4162610379413017 Validation Loss = 0.43803367830006423\n",
      "Train Accuracy = 82.66 Validation Accuracy =82.73\n",
      "Time taken on CPU: 6.753865003585815\n",
      "Current epoch is best so far, Saving model...\n",
      "Epoch 14 of 20: Train Loss = 0.41569440255342927 Validation Loss = 0.4377529603649968\n",
      "Train Accuracy = 82.67 Validation Accuracy =82.07\n",
      "Time taken on CPU: 6.777671813964844\n",
      "Epoch 15 of 20: Train Loss = 0.41508869272322285 Validation Loss = 0.43732481000503315\n",
      "Train Accuracy = 82.7 Validation Accuracy =82.73\n",
      "Time taken on CPU: 6.726111650466919\n",
      "Current epoch is best so far, Saving model...\n",
      "Epoch 16 of 20: Train Loss = 0.4147747485594855 Validation Loss = 0.43603545308266717\n",
      "Train Accuracy = 82.67 Validation Accuracy =82.73\n",
      "Time taken on CPU: 6.705504417419434\n",
      "Current epoch is best so far, Saving model...\n",
      "Epoch 17 of 20: Train Loss = 0.4143426059853306 Validation Loss = 0.437819178168153\n",
      "Train Accuracy = 82.67 Validation Accuracy =82.42\n",
      "Time taken on CPU: 6.703710317611694\n",
      "Epoch 18 of 20: Train Loss = 0.4141058600615731 Validation Loss = 0.43646257090353474\n",
      "Train Accuracy = 82.68 Validation Accuracy =82.71\n",
      "Time taken on CPU: 6.7249534130096436\n",
      "Epoch 19 of 20: Train Loss = 0.4138420054966903 Validation Loss = 0.43557048472815874\n",
      "Train Accuracy = 82.66 Validation Accuracy =82.71\n",
      "Time taken on CPU: 6.7077412605285645\n",
      "Epoch 20 of 20: Train Loss = 0.4136626409068292 Validation Loss = 0.43678340158358064\n",
      "Train Accuracy = 82.67 Validation Accuracy =82.71\n",
      "Time taken on CPU: 6.694645404815674\n"
     ]
    },
    {
     "data": {
      "image/png": "[encoded data removed]",
      "text/plain": [
       "<Figure size 640x480 with 1 Axes>"
      ]
     },
     "metadata": {},
     "output_type": "display_data"
    },
    {
     "data": {
      "image/png": "[encoded data removed]",
      "text/plain": [
       "<Figure size 640x480 with 1 Axes>"
      ]
     },
     "metadata": {},
     "output_type": "display_data"
    },
    {
     "name": "stdout",
     "output_type": "stream",
     "text": [
      "Accuracy on the Test set for tuned model 1: 82.734514398295%\n"
     ]
    }
   ],
   "source": [
    "train_loader, val_loader = loader(batch_size = 64)\n",
    "model_tuned = Net()\n",
    "acc = train(model_tuned, train_loader, val_loader, lr = 0.001, epochs = 20, gamma = 0.995, create_plot = True, verbose = True)\n",
    "print(f'Accuracy on the Test set for tuned model 1: {acc * 100}%')"
   ]
  },
  {
   "cell_type": "markdown",
   "id": "9cdffa8f",
   "metadata": {},
   "source": [
    "### Model 2"
   ]
  },
  {
   "cell_type": "code",
   "execution_count": 7,
   "id": "7d1c968a",
   "metadata": {},
   "outputs": [
    {
     "name": "stdout",
     "output_type": "stream",
     "text": [
      "Net_deep(\n",
      "  (sequential): Sequential(\n",
      "    (0): Linear(in_features=34, out_features=16, bias=True)\n",
      "    (1): ReLU()\n",
      "    (2): Linear(in_features=16, out_features=16, bias=True)\n",
      "    (3): ReLU()\n",
      "    (4): Linear(in_features=16, out_features=16, bias=True)\n",
      "    (5): ReLU()\n",
      "    (6): Linear(in_features=16, out_features=8, bias=True)\n",
      "    (7): ReLU()\n",
      "    (8): Linear(in_features=8, out_features=6, bias=True)\n",
      "  )\n",
      ")\n"
     ]
    }
   ],
   "source": [
    "class Net_deep(nn.Module):\n",
    "    def __init__(self):\n",
    "        super().__init__()\n",
    "        self.sequential = nn.Sequential(\n",
    "            nn.Linear(34, 16),\n",
    "            nn.ReLU(),\n",
    "            nn.Linear(16, 16),\n",
    "            nn.ReLU(),\n",
    "            nn.Linear(16, 16),\n",
    "            nn.ReLU(),\n",
    "            nn.Linear(16, 8),\n",
    "            nn.ReLU(),\n",
    "            nn.Linear(8, 6)\n",
    "            )\n",
    "    def forward(self, x):\n",
    "        y = self.sequential(x)\n",
    "        return y\n",
    "    \n",
    "model = Net_deep()\n",
    "print(model)"
   ]
  },
  {
   "cell_type": "code",
   "execution_count": 47,
   "id": "eb8e34de",
   "metadata": {},
   "outputs": [
    {
     "name": "stdout",
     "output_type": "stream",
     "text": [
      "Using CPU...\n",
      "Epoch 1 of 20: Train Loss = 0.47215958689210824 Validation Loss = 0.44876523011546465\n",
      "Train Accuracy = 81.06 Validation Accuracy =81.99\n",
      "Time taken on CPU: 9.209383010864258\n",
      "Current epoch is best so far, Saving model...\n",
      "Epoch 2 of 20: Train Loss = 0.42955141772634414 Validation Loss = 0.440528160201136\n",
      "Train Accuracy = 82.08 Validation Accuracy =82.05\n",
      "Time taken on CPU: 9.264636754989624\n",
      "Current epoch is best so far, Saving model...\n",
      "Epoch 3 of 20: Train Loss = 0.4262123282731238 Validation Loss = 0.4359160349464294\n",
      "Train Accuracy = 82.17 Validation Accuracy =82.08\n",
      "Time taken on CPU: 9.210835695266724\n",
      "Current epoch is best so far, Saving model...\n",
      "Epoch 4 of 20: Train Loss = 0.4233632947199911 Validation Loss = 0.4363792263758705\n",
      "Train Accuracy = 82.38 Validation Accuracy =82.02\n",
      "Time taken on CPU: 9.172112226486206\n",
      "Epoch 5 of 20: Train Loss = 0.42077813543255815 Validation Loss = 0.4384956646845052\n",
      "Train Accuracy = 82.52 Validation Accuracy =82.32\n",
      "Time taken on CPU: 9.24922513961792\n",
      "Current epoch is best so far, Saving model...\n",
      "Epoch 6 of 20: Train Loss = 0.4191284365005256 Validation Loss = 0.4330711850185984\n",
      "Train Accuracy = 82.56 Validation Accuracy =82.68\n",
      "Time taken on CPU: 9.185582160949707\n",
      "Current epoch is best so far, Saving model...\n",
      "Epoch 7 of 20: Train Loss = 0.41788004125926376 Validation Loss = 0.4369714093807432\n",
      "Train Accuracy = 82.6 Validation Accuracy =82.7\n",
      "Time taken on CPU: 9.273866415023804\n",
      "Current epoch is best so far, Saving model...\n",
      "Epoch 8 of 20: Train Loss = 0.41676226349660705 Validation Loss = 0.4415194994395541\n",
      "Train Accuracy = 82.6 Validation Accuracy =82.4\n",
      "Time taken on CPU: 9.206101894378662\n",
      "Epoch 9 of 20: Train Loss = 0.4160506645865862 Validation Loss = 0.4582588286475115\n",
      "Train Accuracy = 82.62 Validation Accuracy =82.31\n",
      "Time taken on CPU: 9.235622882843018\n",
      "Epoch 10 of 20: Train Loss = 0.4154017153242346 Validation Loss = 0.4433565968455574\n",
      "Train Accuracy = 82.63 Validation Accuracy =82.69\n",
      "Time taken on CPU: 9.376818418502808\n",
      "Epoch 11 of 20: Train Loss = 0.41497903183431917 Validation Loss = 0.44588536136428414\n",
      "Train Accuracy = 82.63 Validation Accuracy =82.13\n",
      "Time taken on CPU: 9.22547435760498\n",
      "Epoch 12 of 20: Train Loss = 0.41455982598316604 Validation Loss = 0.44501519567073927\n",
      "Train Accuracy = 82.64 Validation Accuracy =82.38\n",
      "Time taken on CPU: 9.26029086112976\n",
      "Epoch 13 of 20: Train Loss = 0.4145678270669932 Validation Loss = 0.44708729053357826\n",
      "Train Accuracy = 82.64 Validation Accuracy =82.42\n",
      "Time taken on CPU: 9.227627754211426\n",
      "Epoch 14 of 20: Train Loss = 0.4141386988701412 Validation Loss = 0.44749041302033615\n",
      "Train Accuracy = 82.63 Validation Accuracy =82.7\n",
      "Time taken on CPU: 9.231431245803833\n",
      "Epoch 15 of 20: Train Loss = 0.4141926422015409 Validation Loss = 0.4493756042025292\n",
      "Train Accuracy = 82.63 Validation Accuracy =82.71\n",
      "Time taken on CPU: 9.185347080230713\n",
      "Current epoch is best so far, Saving model...\n",
      "Epoch 16 of 20: Train Loss = 0.413585450561995 Validation Loss = 0.45151886721285656\n",
      "Train Accuracy = 82.65 Validation Accuracy =82.72\n",
      "Time taken on CPU: 9.160041809082031\n",
      "Current epoch is best so far, Saving model...\n",
      "Epoch 17 of 20: Train Loss = 0.41326344957503164 Validation Loss = 0.4537242843491054\n",
      "Train Accuracy = 82.63 Validation Accuracy =82.72\n",
      "Time taken on CPU: 9.21395993232727\n",
      "Epoch 18 of 20: Train Loss = 0.4129640472363372 Validation Loss = 0.4558296820878522\n",
      "Train Accuracy = 82.66 Validation Accuracy =82.4\n",
      "Time taken on CPU: 9.274099826812744\n",
      "Epoch 19 of 20: Train Loss = 0.41267654659916025 Validation Loss = 0.45512593407951984\n",
      "Train Accuracy = 82.65 Validation Accuracy =82.41\n",
      "Time taken on CPU: 9.295608520507812\n",
      "Epoch 20 of 20: Train Loss = 0.4122802143227 Validation Loss = 0.455549939708381\n",
      "Train Accuracy = 82.67 Validation Accuracy =82.1\n",
      "Time taken on CPU: 9.2442467212677\n"
     ]
    },
    {
     "data": {
      "image/png": "[encoded data removed]",
      "text/plain": [
       "<Figure size 640x480 with 1 Axes>"
      ]
     },
     "metadata": {},
     "output_type": "display_data"
    },
    {
     "data": {
      "image/png": "[encoded data removed]",
      "text/plain": [
       "<Figure size 640x480 with 1 Axes>"
      ]
     },
     "metadata": {},
     "output_type": "display_data"
    },
    {
     "name": "stdout",
     "output_type": "stream",
     "text": [
      "Final Accuracy: 82.72204599524187%\n"
     ]
    }
   ],
   "source": [
    "accuracy = train(model, train_loader, val_loader, lr = 0.001, epochs = 20, gamma = 1, create_plot = True, verbose = True)\n",
    "print(f'Final Accuracy: {accuracy * 100}%')"
   ]
  },
  {
   "cell_type": "markdown",
   "id": "ff417ecb",
   "metadata": {},
   "source": [
    "### Hyperparameter tuning for Model 2"
   ]
  },
  {
   "cell_type": "code",
   "execution_count": 48,
   "id": "bdda66d3",
   "metadata": {},
   "outputs": [
    {
     "name": "stdout",
     "output_type": "stream",
     "text": [
      "Training completed for Learning Rate: 0.1, Batch Size: 32\n",
      "Training completed for Learning Rate: 0.1, Batch Size: 64\n",
      "Training completed for Learning Rate: 0.1, Batch Size: 128\n",
      "Training completed for Learning Rate: 0.01, Batch Size: 32\n",
      "Training completed for Learning Rate: 0.01, Batch Size: 64\n",
      "Training completed for Learning Rate: 0.01, Batch Size: 128\n",
      "Training completed for Learning Rate: 0.001, Batch Size: 32\n",
      "Training completed for Learning Rate: 0.001, Batch Size: 64\n",
      "Training completed for Learning Rate: 0.001, Batch Size: 128\n"
     ]
    },
    {
     "data": {
      "text/plain": [
       "{'0.1, 32': 0.7073326991249163,\n",
       " '0.1, 64': 0.49999845113005553,\n",
       " '0.1, 128': 0.5011058759306988,\n",
       " '0.01, 32': 0.8206860916234909,\n",
       " '0.01, 64': 0.8192166745142744,\n",
       " '0.01, 128': 0.8267428228808706,\n",
       " '0.001, 32': 0.8274235231413769,\n",
       " '0.001, 64': 0.8273552116375893,\n",
       " '0.001, 128': 0.827331668814433}"
      ]
     },
     "execution_count": 48,
     "metadata": {},
     "output_type": "execute_result"
    }
   ],
   "source": [
    "lr_params = [0.1, 0.01, 0.001]\n",
    "batch_sizes = [32, 64, 128]\n",
    "tuning_accs_deep = {}\n",
    "for lr in lr_params:\n",
    "    for batch_size in batch_sizes:\n",
    "        train_loader, val_loader = loader(batch_size=batch_size)\n",
    "        model = Net_deep()\n",
    "        acc = train(model, train_loader, val_loader, lr = lr, epochs = 30, gamma = 0.995, create_plot = False, verbose = False)\n",
    "        tuning_accs_deep[str(lr) + ', ' + str(batch_size)] = acc\n",
    "        print(f'Training completed for Learning Rate: {lr}, Batch Size: {batch_size}')\n",
    "\n",
    "tuning_accs_deep"
   ]
  },
  {
   "cell_type": "markdown",
   "id": "ed22be09",
   "metadata": {},
   "source": [
    "Learning rate of 0.001 and batch size of 32 provided the highest accuracy, 82.74% in this case"
   ]
  },
  {
   "cell_type": "markdown",
   "id": "e4bb73f3",
   "metadata": {},
   "source": [
    "### Training model 2 on tuned hyperparamters and reporting accuracy on the test set"
   ]
  },
  {
   "cell_type": "code",
   "execution_count": 51,
   "id": "6fddf64e",
   "metadata": {
    "scrolled": false
   },
   "outputs": [
    {
     "name": "stdout",
     "output_type": "stream",
     "text": [
      "Using CPU...\n",
      "Epoch 1 of 20: Train Loss = 0.48277975005504176 Validation Loss = 0.4425923968713308\n",
      "Train Accuracy = 80.62 Validation Accuracy =82.03\n",
      "Time taken on CPU: 9.285621881484985\n",
      "Current epoch is best so far, Saving model...\n",
      "Epoch 2 of 20: Train Loss = 0.4294985712233169 Validation Loss = 0.4373433554698665\n",
      "Train Accuracy = 82.09 Validation Accuracy =82.06\n",
      "Time taken on CPU: 9.302937507629395\n",
      "Current epoch is best so far, Saving model...\n",
      "Epoch 3 of 20: Train Loss = 0.42678684864337274 Validation Loss = 0.438066053588289\n",
      "Train Accuracy = 82.14 Validation Accuracy =81.43\n",
      "Time taken on CPU: 9.242525815963745\n",
      "Epoch 4 of 20: Train Loss = 0.4248986908167765 Validation Loss = 0.4351853012232129\n",
      "Train Accuracy = 82.25 Validation Accuracy =82.0\n",
      "Time taken on CPU: 9.334253311157227\n",
      "Epoch 5 of 20: Train Loss = 0.4216224592817093 Validation Loss = 0.431457918905413\n",
      "Train Accuracy = 82.38 Validation Accuracy =82.32\n",
      "Time taken on CPU: 9.331018209457397\n",
      "Current epoch is best so far, Saving model...\n",
      "Epoch 6 of 20: Train Loss = 0.4200223323348807 Validation Loss = 0.4285473733871561\n",
      "Train Accuracy = 82.44 Validation Accuracy =82.32\n",
      "Time taken on CPU: 9.288313865661621\n",
      "Current epoch is best so far, Saving model...\n",
      "Epoch 7 of 20: Train Loss = 0.41842500794658344 Validation Loss = 0.42804178871099174\n",
      "Train Accuracy = 82.5 Validation Accuracy =82.34\n",
      "Time taken on CPU: 9.331404685974121\n",
      "Current epoch is best so far, Saving model...\n",
      "Epoch 8 of 20: Train Loss = 0.4169398436847642 Validation Loss = 0.4246536846339856\n",
      "Train Accuracy = 82.58 Validation Accuracy =82.43\n",
      "Time taken on CPU: 9.312937259674072\n",
      "Current epoch is best so far, Saving model...\n",
      "Epoch 9 of 20: Train Loss = 0.416014822840032 Validation Loss = 0.42349895506559576\n",
      "Train Accuracy = 82.6 Validation Accuracy =82.69\n",
      "Time taken on CPU: 9.287638664245605\n",
      "Current epoch is best so far, Saving model...\n",
      "Epoch 10 of 20: Train Loss = 0.4156537333945872 Validation Loss = 0.42508468308399633\n",
      "Train Accuracy = 82.58 Validation Accuracy =82.74\n",
      "Time taken on CPU: 9.32910704612732\n",
      "Current epoch is best so far, Saving model...\n",
      "Epoch 11 of 20: Train Loss = 0.4147086604318237 Validation Loss = 0.42533904224749386\n",
      "Train Accuracy = 82.61 Validation Accuracy =82.74\n",
      "Time taken on CPU: 9.298097133636475\n",
      "Current epoch is best so far, Saving model...\n",
      "Epoch 12 of 20: Train Loss = 0.4141528711752009 Validation Loss = 0.4243421471514499\n",
      "Train Accuracy = 82.62 Validation Accuracy =82.01\n",
      "Time taken on CPU: 9.292855262756348\n",
      "Epoch 13 of 20: Train Loss = 0.41389249277131335 Validation Loss = 0.42655847706476746\n",
      "Train Accuracy = 82.63 Validation Accuracy =82.45\n",
      "Time taken on CPU: 9.414280652999878\n",
      "Epoch 14 of 20: Train Loss = 0.41337672815303117 Validation Loss = 0.42485259604861136\n",
      "Train Accuracy = 82.64 Validation Accuracy =82.74\n",
      "Time taken on CPU: 9.366326332092285\n",
      "Epoch 15 of 20: Train Loss = 0.41265482841604983 Validation Loss = 0.425456039684335\n",
      "Train Accuracy = 82.66 Validation Accuracy =82.73\n",
      "Time taken on CPU: 9.338098526000977\n",
      "Epoch 16 of 20: Train Loss = 0.4126664335185981 Validation Loss = 0.42701834757073026\n",
      "Train Accuracy = 82.65 Validation Accuracy =82.73\n",
      "Time taken on CPU: 9.307037830352783\n",
      "Epoch 17 of 20: Train Loss = 0.41236765519690116 Validation Loss = 0.43831381371686445\n",
      "Train Accuracy = 82.67 Validation Accuracy =82.31\n",
      "Time taken on CPU: 9.299811363220215\n",
      "Epoch 18 of 20: Train Loss = 0.411887028763966 Validation Loss = 0.43085206427717027\n",
      "Train Accuracy = 82.65 Validation Accuracy =82.43\n",
      "Time taken on CPU: 9.313334226608276\n",
      "Epoch 19 of 20: Train Loss = 0.41135931470693804 Validation Loss = 0.43432983463226826\n",
      "Train Accuracy = 82.69 Validation Accuracy =82.11\n",
      "Time taken on CPU: 9.336151361465454\n",
      "Epoch 20 of 20: Train Loss = 0.41187747862622226 Validation Loss = 0.43494194006720155\n",
      "Train Accuracy = 82.68 Validation Accuracy =82.74\n",
      "Time taken on CPU: 9.34633493423462\n"
     ]
    },
    {
     "data": {
      "image/png": "[encoded data removed]",
      "text/plain": [
       "<Figure size 640x480 with 1 Axes>"
      ]
     },
     "metadata": {},
     "output_type": "display_data"
    },
    {
     "data": {
      "image/png": "[encoded data removed]",
      "text/plain": [
       "<Figure size 640x480 with 1 Axes>"
      ]
     },
     "metadata": {},
     "output_type": "display_data"
    },
    {
     "name": "stdout",
     "output_type": "stream",
     "text": [
      "Accuracy on the Test set for tuned model 2: 82.73869634714512%\n"
     ]
    }
   ],
   "source": [
    "train_loader, val_loader = loader(batch_size = 32)\n",
    "model_tuned = Net_deep()\n",
    "acc = train(model_tuned, train_loader, val_loader, lr = 0.001, epochs = 20, gamma = 0.995, create_plot = True, verbose = True)\n",
    "print(f'Accuracy on the Test set for tuned model 2: {acc * 100}%')"
   ]
  }
 ],
 "metadata": {
  "kernelspec": {
   "display_name": "Python 3 (ipykernel)",
   "language": "python",
   "name": "python3"
  },
  "language_info": {
   "codemirror_mode": {
    "name": "ipython",
    "version": 3
   },
   "file_extension": ".py",
   "mimetype": "text/x-python",
   "name": "python",
   "nbconvert_exporter": "python",
   "pygments_lexer": "ipython3",
   "version": "3.11.5"
  }
 },
 "nbformat": 4,
 "nbformat_minor": 5
}
